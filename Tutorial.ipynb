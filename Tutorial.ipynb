{
 "cells": [
  {
   "cell_type": "markdown",
   "metadata": {},
   "source": [
    "# Repositorio GCM-TFG\n",
    "## Problemas de optimización en el modelado de materia oscura galáctica\n",
    "\n",
    "### `data.py`\n",
    "Contiene la lista `galaxlist` de galaxias a explorar. Para cada galaxia se abre y lee su respectivo archivo `.arff`, en el que cada fila corresponde a una partícula que se ha observado que gira en torno a la galaxia. Para cada una de estas partículas se tienen los siguientes datos:\n",
    "* Radio de giro en torno a la galaxia\n",
    "* Velocidad rotacional de la partícula\n",
    "* Errores\n",
    "* Velocidad debida a la materia bariónica bariónica\n",
    "\n",
    "A partir de estos datos construye el diccionario `galaxies` donde se asocia cada galaxia con los datos que se tienen de ella:\n",
    "* `R`: Vector de radios de giro de las diferentes partículas observadas\n",
    "* `vrot`: Vector de velocidades rotacionales\n",
    "* `errs`: Vector de errores\n",
    "* `vbary`: Vector de velocidades debidas a la materia bariónica\n",
    "\n",
    "A continuación se muestra un ejemplo de lectura y recogida de datos de una de las 23 galaxias estudiadas."
   ]
  },
  {
   "cell_type": "code",
   "execution_count": 24,
   "metadata": {},
   "outputs": [
    {
     "name": "stdout",
     "output_type": "stream",
     "text": [
      "Vector de radios de la galaxia DDO43\n",
      "[ 470.       930.00001 1400.      1860.      2329.9999  2790.\n",
      " 3260.      3720.      4190.0001 ]\n",
      "Vector de velocidades rotacionales de la galaxia DDO43\n",
      "[ 7.9899998 18.290001  24.59      28.82      32.959999  33.830002\n",
      " 36.07      36.490002  31.09     ]\n",
      "Vector de errores de la galaxia DDO43\n",
      "[2.8900001 2.3900001 2.25      2.0699999 2.27      2.51      2.6700001\n",
      " 2.8199999 2.8199999]\n",
      "Vector de velocidades debidas a la materia bariónica de la galaxia DDO43\n",
      "[ 8.50096437 12.10877402 16.20661634 21.7422264  24.2805876  24.91602689\n",
      " 25.43348398 26.03271224 26.90978314]\n"
     ]
    }
   ],
   "source": [
    "from scipy.io import arff\n",
    "import numpy as np\n",
    "\n",
    "galaxlist = [\"DDO43\"]\n",
    "galaxies = {}\n",
    "for i in galaxlist:\n",
    "    fp = open(\"galaxies/\"+i+\".arff\")\n",
    "    dt, metadt = arff.loadarff(fp)\n",
    "    data = []\n",
    "    for d in dt.tolist():\n",
    "        data.append(np.asarray(d))\n",
    "    data = np.asarray(data)\n",
    "    galaxies[i] = {\n",
    "        \"R\": data[:, 0] * 1000,\n",
    "        \"vrot\": abs(data[:, 1]),\n",
    "        \"errs\": data[:, 3],\n",
    "        \"vbary\": np.sqrt(data[:, 4] ** 2 + data[:, 5] ** 2)\n",
    "    }\n",
    "    fp.close()\n",
    "print(\"Vector de radios de la galaxia DDO43\")\n",
    "print(galaxies[\"DDO43\"][\"R\"])\n",
    "print(\"Vector de velocidades rotacionales de la galaxia DDO43\")\n",
    "print(galaxies[\"DDO43\"][\"vrot\"])\n",
    "print(\"Vector de errores de la galaxia DDO43\")\n",
    "print(galaxies[\"DDO43\"][\"errs\"])\n",
    "print(\"Vector de velocidades debidas a la materia bariónica de la galaxia DDO43\")\n",
    "print(galaxies[\"DDO43\"][\"vbary\"])"
   ]
  },
  {
   "cell_type": "markdown",
   "metadata": {},
   "source": [
    "En `data.py` también se declaran las constantes $\\nu$ (número de parámetros libres) y $CteDim$ (constante de adimensionalización).\n",
    "* Puesto que sólo trabajaremos con los perfiles ISO, BUR y NFW, $\\nu = 2$.\n",
    "* $CteDim = \\frac{10000}{4.51697\\times3.0856776^ 2}$.  \n",
    "\n",
    "A continuación creamos el diccionario `galaxdata`, donde almacenaremos los datos que más usaremos, en este caso de la galaxia DDO43."
   ]
  },
  {
   "cell_type": "code",
   "execution_count": 21,
   "metadata": {},
   "outputs": [],
   "source": [
    "import commonFunctions as cf\n",
    "import data as dt\n",
    "\n",
    "galaxdata = {\n",
    "    \"radii\": np.array([]),\n",
    "    \"vrot\": np.array([]),\n",
    "    \"vbary\": np.array([]),\n",
    "    \"weights\": np.array([]),\n",
    "    \"CteDim\": dt.CteDim,\n",
    "    \"totalnullvbary\": False,\n",
    "    \"somenullvbary\": False,\n",
    "    \"vones\": np.array([]),\n",
    "    \"vv\": np.array([]),\n",
    "    \"vvbary\": np.array([]),\n",
    "    \"profile\": '',\n",
    "    \"graphic\": False\n",
    "}\n",
    "\n",
    "for i in galaxlist:\n",
    "    radii = galaxies[i][\"R\"]\n",
    "    galaxdata[\"radii\"] = radii\n",
    "    vrot = galaxies[i][\"vrot\"]\n",
    "    galaxdata[\"vrot\"] = vrot\n",
    "    vbary = galaxies[i][\"vbary\"]\n",
    "    galaxdata[\"vbary\"] = vbary\n",
    "    n = len(radii)\n",
    "    vones = np.ones(n)\n",
    "    galaxdata[\"vones\"] = vones\n",
    "    weights = 1 / ((n - dt.nu) * galaxies[i][\"errs\"] ** 2)\n",
    "    galaxdata[\"weights\"] = weights\n",
    "    totalnullvbary = np.sum(vbary) == 0\n",
    "    galaxdata[\"totalnullvbary\"] = totalnullvbary\n",
    "    somenullvbary = round(np.prod(vbary)) == 0\n",
    "    galaxdata[\"somenullvbary\"] = somenullvbary\n",
    "    vv = cf.vv(galaxdata)\n",
    "    galaxdata[\"vv\"] = vv\n",
    "    vvbary = cf.vvbary(galaxdata)\n",
    "    galaxdata[\"vvbary\"] = vvbary\n",
    "    # galaxdata[\"graphic\"] = True"
   ]
  },
  {
   "cell_type": "markdown",
   "metadata": {},
   "source": [
    "### `commonFunctions.py`\n",
    "Aquí se definen algunas funciones comunes a todas las galaxias y para cualquiera de los perfiles ISO, BUR y NFW.  \n",
    "* `WeighProd(x, y, sigmas)`: Dados los arrays `x` e `y`, y los pesos `sigmas` devuelve el producto escalar pesado definido en (15).  \n",
    "* `ginf(x, model)`: Dados un array `x` y un perfil de densidad `model`, devuelve el valor de g cuando s tiende a infinito, definida en la Tabla 2.  \n",
    "* `eqVLimInf(t, ginf, galaxdata)`: Dados el parámetro `t`, el valor de g definida en la Tabla 2 cuando s tiende a infinito y el diccionario `galaxdata` de datos de la galaxia, devuelve la ecuación definida en (33).  \n",
    "* `g0(x, model)`: Dado un array `x` y un perfil de densidad `model`, devuelve el valor de g cuando s tiende a cero, definida en la Tabla 2.  \n",
    "* `eqVLim0(t, g0, galaxdata)`: Dados el parámetro `t`, el valor de g definida en la Tabla 2 cuando s tiende a cero y el diccionario `galaxdata` de datos de la galaxia, devuelve la ecuación definida en (35).  \n",
    "* `v(r, s, model)`: Dado un array de radios `r`, un array de inversos de parámetros de escalas `s` y un perfil de densidad de materia oscura `model`, devuelve el valor de la ecuación definida en (18) para estos parámetros.  \n",
    "* `chiquad(rho, s, galaxdata)`: Dados un array de parámetro de densidad central `rho`, un array de de inversos de parámetros de escala `s` y un diccionario de datos de una galaxia `galaxdata`, devuelve el valor de la ecuación definida en (16) para estos parámetros.  \n",
    "* `rho(s, galaxdata)`: Dados un array de inversos de parámetros de escala `s` y un diccionario de datos de una galaxia `galaxdata`, devuelve el valor de rho estudiado en la Proposición 1.  \n",
    "* `alphaMV(s, galaxdata)`: Dados un array de inversos de parámetros de escala `s` y un diccionario de datos de una galaxia `galaxdata`, devuelve el valor de la ecuación (24) para estos parámetros.  \n",
    "* `vv(galaxdata)`: Dado un diccionario de datos de una galaxia `galaxdata`, devuelve el producto escalar pesado de la velocidad rotacional.  \n",
    "* `vvbary(galaxdata)`: Dado un diccionario de datos de una galaxia `galaxdata`, devuelve el el producto escalar pesado de la velocidad debida a la materia bariónica.  \n",
    "* `phi(s, galaxdata)`: Dados un array de inversos de parámetros de escala `s` y un diccionario de datos de una galaxia `galaxdata`, devuelve el valor de la función varphi y el valor de la función rho para estos parámetros.\n",
    "\n",
    "### `calLimits.py`\n",
    "Aquí se define la función que calcula los límites de varphi en cero y en infinito, usando el Lema 1.  \n",
    "* `calLimits(galaxdata)`: Dado un diccionario de datos de una galaxia `galaxdata`, devuelve un array con los valores de los límites de varphi en cero y en infinito.  \n",
    "Calculamos los límites para la galaxia DDO43 con el perfil ISO, BUR y NFW."
   ]
  },
  {
   "cell_type": "code",
   "execution_count": 4,
   "metadata": {},
   "outputs": [
    {
     "name": "stdout",
     "output_type": "stream",
     "text": [
      "El límite de varphi cuando s tiende a 0 para la galaxia DDO43 con el perfil ISO es  3.7583267955556607\n",
      "El límite de varphi cuando s tiende a infinito para la galaxia DDO43 con el perfil ISO es  4.058958699663322\n",
      "El límite de varphi cuando s tiende a 0 para la galaxia DDO43 con el perfil BUR es  3.7583267955556607\n",
      "El límite de varphi cuando s tiende a infinito para la galaxia DDO43 con el perfil BUR es  10.866553658143346\n",
      "El límite de varphi cuando s tiende a 0 para la galaxia DDO43 con el perfil NFW es  1.448860004687731\n",
      "El límite de varphi cuando s tiende a infinito para la galaxia DDO43 con el perfil NFW es  10.866553658143346\n"
     ]
    }
   ],
   "source": [
    "from calLimits import *\n",
    "\n",
    "galaxdata[\"profile\"] = \"ISO\"\n",
    "varphiLim0, varphiLimInf = calLimits(galaxdata)\n",
    "print(\"El límite de varphi cuando s tiende a 0 para la galaxia DDO43 con el perfil ISO es \", varphiLim0)\n",
    "print(\"El límite de varphi cuando s tiende a infinito para la galaxia DDO43 con el perfil ISO es \", varphiLimInf)\n",
    "galaxdata[\"profile\"] = \"BUR\"\n",
    "varphiLim0, varphiLimInf = calLimits(galaxdata)\n",
    "print(\"El límite de varphi cuando s tiende a 0 para la galaxia DDO43 con el perfil BUR es \", varphiLim0)\n",
    "print(\"El límite de varphi cuando s tiende a infinito para la galaxia DDO43 con el perfil BUR es \", varphiLimInf)\n",
    "galaxdata[\"profile\"] = \"NFW\"\n",
    "varphiLim0, varphiLimInf = calLimits(galaxdata)\n",
    "print(\"El límite de varphi cuando s tiende a 0 para la galaxia DDO43 con el perfil NFW es \", varphiLim0)\n",
    "print(\"El límite de varphi cuando s tiende a infinito para la galaxia DDO43 con el perfil NFW es \", varphiLimInf)"
   ]
  },
  {
   "cell_type": "markdown",
   "metadata": {},
   "source": [
    "### `intervalMinim.py`\n",
    "Aquí se definen las distintas funciones que forman el algoritmo de minimización del intervalo de búsqueda. Se especifica una tolerancia `tol`$=10^{-2}$ y se fija la semilla del random a 1.  \n",
    "* `inftestElementwise(eval)`: Dado un array de puntos vecinos al candidato a extremo inferior del intervalo `eval`, devuelve dos booleanos. El primero indica si los puntos vecinos de la derecha cumplen la ecuación (40) y el segundo indica si la cumplen los vecinos de la izquierda.  \n",
    "* `suptestElementwise(eval)`: Dado un array de puntos vecinos al candidato a extremo superior del intervalo `eval`, devuelve dos booleanos. El primero indica si los puntos vecinos de la izquierda cumplen la ecuación (39) y el segundo indica si la cumplen los vecinos de la derecha.  \n",
    "* `inftestElementsum(eval)`: Dado un array de puntos vecinos al candidato a extremo inferior del intervalo `eval`, devuelve dos booleanos. El primero indica si la suma de los puntos vecinos de la derecha cumplen la ecuación (40) y el segundo indica si la cumple la suma de los vecinos de la izquierda.\n",
    "* `suptestElementsum(eval)`: Dado un array de puntos vecinos al candidato a extremo superior del intervalo `eval`, devuelve dos booleanos. El primero indica si la suma de los puntos vecinos de la izquierda cumplen la ecuación (39) y el segundo indica si la cumple la suma de los vecinos de la derecha.  \n",
    "* `infConditions(test1, test2, intervalinf, stop, i)`: Dados un booleano `test1` indicando si los puntos de la derecha (o su suma) cumplen (40), un booleano `test2` indicando si los puntos de la izquierda (o su suma) cumplen (40), un candidato a extremo inferior del intervalo `intervalinf`, un parámetro que controla la condición de parada del algoritmo `stop` y un parámetro `i` que almacena el anterior candidato a extremo inferior en caso de que estemos acercándonos a estar en condición de parada, la función decide si el candidato cumple la condición óptima y en qué dirección moverse.  \n",
    "\n",
    "Supongamos que estamos evaluando la situación de un candidato `intervalinf = 1.5` a extremo inferior. Sus vecinos de la derecha no cumplen (40), y sus vecinos de la izquierda tampoco, es decir, `test1 = False` y `test2 = False`. No estamos en condición de parada, `stop = False`, y el candidato anterior a extremo inferior `i` es cualquiera, supongamos `i=2.0`."
   ]
  },
  {
   "cell_type": "code",
   "execution_count": 5,
   "metadata": {},
   "outputs": [
    {
     "name": "stdout",
     "output_type": "stream",
     "text": [
      "Debemos movernos en dirección  -1 con módulo aleatorio.\n",
      "El nuevo candidato a extremo inferior es  1.28656357558876\n",
      "¿Estamos en condición de parada?  False\n",
      "El candidato anterior no ha cambiado: i =  2.0\n"
     ]
    }
   ],
   "source": [
    "from intervalMinim import *\n",
    "\n",
    "test1 = False\n",
    "test2 = False\n",
    "stop = False\n",
    "i = 2.0\n",
    "intervalinf = 1.5\n",
    "\n",
    "new_intervalinf, direction, stop, i = infConditions(test1, test2, intervalinf, stop, i)\n",
    "print(\"Debemos movernos en dirección \", direction, \"con módulo aleatorio.\")\n",
    "print(\"El nuevo candidato a extremo inferior es \", new_intervalinf)\n",
    "print(\"¿Estamos en condición de parada? \", stop)\n",
    "print(\"El candidato anterior no ha cambiado: i = \", i)"
   ]
  },
  {
   "cell_type": "markdown",
   "metadata": {},
   "source": [
    "Supongamos ahora que estamos evaluando la situación de un candidato `intervalinf = 1.2` a extremo inferior que no está en condición de parada, `stop = False`. Sus vecinos de la izquierda cumplen (40), pero sus vecinos de la derecha no, es decir, `test2 = True` y `test1 = False`. El candidato anterior a extremo inferior `i`es cualquiera, supongamos `i=1.25`."
   ]
  },
  {
   "cell_type": "code",
   "execution_count": 6,
   "metadata": {},
   "outputs": [
    {
     "name": "stdout",
     "output_type": "stream",
     "text": [
      "Debemos movernos en dirección  -1 con módulo aleatorio.\n",
      "Nos movemos para comprobar en la siguiente iteración que los puntos en dirección  -1  siguen cumpliendo (40)\n",
      "En la siguiente iteración estudiaremos el punto  0.661026505225107\n",
      "¿Estamos en condición de parada?  True\n",
      "El candidato anterior ha cambiado: i =  1.2\n"
     ]
    }
   ],
   "source": [
    "test1 = False\n",
    "test2 = True\n",
    "stop = False\n",
    "i = 1.28\n",
    "intervalinf = 1.2\n",
    "\n",
    "new_intervalinf, direction, stop, i = infConditions(test1, test2, intervalinf, stop, i)\n",
    "print(\"Debemos movernos en dirección \", direction, \"con módulo aleatorio.\")\n",
    "print(\"Nos movemos para comprobar en la siguiente iteración que los puntos en dirección \", direction, \" siguen cumpliendo (40)\")\n",
    "print(\"En la siguiente iteración estudiaremos el punto \", new_intervalinf)\n",
    "print(\"¿Estamos en condición de parada? \", stop)\n",
    "print(\"El candidato anterior ha cambiado: i = \", i)"
   ]
  },
  {
   "cell_type": "markdown",
   "metadata": {},
   "source": [
    "Ahora, para alcanzar por completo la condicón óptima, los valores a la izquierda del candidato `i =  1.2` deberían cumplir (40). Supongamos que sí: `test1 = True` y `test2 = True`. "
   ]
  },
  {
   "cell_type": "code",
   "execution_count": 7,
   "metadata": {},
   "outputs": [
    {
     "name": "stdout",
     "output_type": "stream",
     "text": [
      "Ahora la dirección es  0 , que indica que hemos alcanzaco la condición de parada.\n",
      "Recuperamos de i el que era nuestro candidato. Ahora intervalinf =  1.2\n",
      "¿Estamos en condición de parada?  True\n"
     ]
    }
   ],
   "source": [
    "test1 = True\n",
    "test2 = True\n",
    "\n",
    "intervalinf, direction, stop, i = infConditions(test1, test2, new_intervalinf, stop, i)\n",
    "print(\"Ahora la dirección es \", direction, \", que indica que hemos alcanzaco la condición de parada.\")\n",
    "print(\"Recuperamos de i el que era nuestro candidato. Ahora intervalinf = \", intervalinf)\n",
    "print(\"¿Estamos en condición de parada? \", stop)"
   ]
  },
  {
   "cell_type": "markdown",
   "metadata": {},
   "source": [
    "* `supConditions(test1, test2, intervalsup, stop, i)`: Dados un booleano `test1` indicando si los puntos de la izquierda (o su suma) cumplen (39), un booleano `test2` indicando si los puntos de la derecha (o su suma) cumplen (39), un candidato a extremo superior del intervalo `intervalsup`, un parámetro que controla la condición de parada del algoritmo `stop` y un parámetro `i` que almacena el anterior candidato a extremo superior, la función decide si el candidato cumple la condición óptima y en qué dirección moverse.  \n",
    "* `jumpCondition(twoclosevar, varLimdistance, interval, direction, k)`: Dados un booleano `twoclosevar` indicando si los dos últimos candidatos están \"cerca\", un valor `varLimdistance` indicando a qué distancia está el candidato del valor del límite, un candidato `interval`, una dirección (-1, 0 o 1) `direction` y un contador de la condición de salto `k`, la función devuelve si ha habido salto y, en caso de que sí, cuál es el nuevo candidato.  \n",
    "* `intervalMin(varphiLim0, varphiLimInf, galaxdata)`: Dados el valor del límite de varphi en cero `varphiLim0`, el valor del límite de varphi en infinito `varphiLimInf` y un diccionario de datos de una galaxia `galaxdata`, la función realiza la minimización del intervalo de búsqueda. Primero busca el extremo inferior que cumple alguna condición satisfactoria y luego el extremo superior, análogamente. Finalmente devuelve los valores propuestos como extremos, el valor mínimo de varphi encontrado en la búsqueda del extremo inferior y el valor mínimo de varphi encontrado en la búsqueda del extremo superior. También puede devolver datos para la elaboración de gráficas.  \n",
    "\n",
    "A continuación hacemos la minimización del intervalo de búsqueda para la galaxia DDO43 con el perfil ISO."
   ]
  },
  {
   "cell_type": "code",
   "execution_count": 12,
   "metadata": {},
   "outputs": [
    {
     "name": "stdout",
     "output_type": "stream",
     "text": [
      "El extremo inferior del intervalo de búsqueda tras su exploración es  3.1589145654321644e-05\n",
      "El extremo superior del intervalo de búsqueda tras su exploración es  0.24746342440133476\n",
      "El valor mínimo de varphi encontrado en la exploración del extremo inferior es  0.8561628387327573 , para s =  0.001\n",
      "El valor mínimo de varphi encontrado en la exploración del extremo superior es  4.009634416991446 , para s =  0.1905059753391246\n"
     ]
    }
   ],
   "source": [
    "galaxdata[\"profile\"] = \"ISO\"\n",
    "varphiLim0, varphiLimInf = calLimits(galaxdata)\n",
    "\n",
    "interval, intinfmin, intsupmin = intervalMin(varphiLim0, varphiLimInf, galaxdata)\n",
    "intervalinf = interval[0]\n",
    "intervalsup = interval[1]\n",
    "print(\"El extremo inferior del intervalo de búsqueda tras su exploración es \", intervalinf)\n",
    "print(\"El extremo superior del intervalo de búsqueda tras su exploración es \", intervalsup)\n",
    "print(\"El valor mínimo de varphi encontrado en la exploración del extremo inferior es \", infmin[1], \", para s = \", infmin[0])\n",
    "print(\"El valor mínimo de varphi encontrado en la exploración del extremo superior es \", supmin[1], \", para s = \", supmin[0])"
   ]
  },
  {
   "cell_type": "markdown",
   "metadata": {},
   "source": [
    "A continuación se muestra la exploración del intervalo de búsqueda para su minimización para la galaxia DDO43 con perfil ISO. Los puntos rojos representan los puntos explorados y la línea negra el intervalo deducido en el algoritmo.\n",
    "![Galaxia DDO43 para el perfil ISO](galaxies/graphics/ISO-DDO43-interval.png)"
   ]
  },
  {
   "cell_type": "markdown",
   "metadata": {},
   "source": [
    "### `varphiMinim.py`\n",
    "Aquí se definen las distintas funciones que forman el algoritmo de minimización de la función varphi.\n",
    "* `getIMD(intizq, intder, galaxdata)`: Dados el extremo inferior del intervalo `intizq`, el extremo superior del intervalo `intder`y un diccionario de datos de una galaxia `galaxdata`, la función devuelve el valor medio `m`y su evaluación en varphi, así como un punto aleatorio a la derecha y otro a la izquierda, con sus respectivas evaluaciones en varphi.\n",
    "* `reductionInterval(varphiLim0, varphiLimInf, intinfmin, intsupmin, intervalinf, intervalsup)`: Realiza la mejora propuesta en la memoria para el algoritmo de minimización de varphi. Dados el límite de varphi en 0 `varphiLim0`, el límite de varphi en infinito `varphiLimInf`, el punto mínimo encontrado en la exploración del intervalo inferior `intinfmin`, el punto mínimo encontrado en la exploración del intervalo superior `intsupmin`, el extremo inferior del intervalo calculado en intervalMinim.py `intervalinf` y el extremo superior del intervalo calculado en intervalMinim.py `intervalsup`, la función devuelve el intervalo de búsqueda nuevamente reducido (en caso de que haya sido posible reducirlo).  \n",
    "* `varphiMin(varphiLim0, varphiLimInf, intinfmin, intsupmin, intervalinf, intervalsup, galaxdata)`: Dados el límite de varphi cuando s tiende a 0 `varphiLim0`, el límite de varphi cuando s tiende a infinito `varphiLimInf`, el punto mínimo encontrado en la exploración del intervalo inferior `intinfmin`, el punto mínimo encontrado en la exploración del intervalo superior `intsupmin`, el extremo inferior del intervalo calculado en intervalMinim.py `intervalinf`, el extremo superior del intervalo calculado en intervalMinim.py `intervalsup` y el diccionario de datos de una galaxia `galaxdata`, la función realiza la exploración de varphi y devuelve el mínimo valor encontrado.  \n",
    "\n",
    "A continuación realizamos la minimización de varphi para la galaxia DDO43 con el perfil ISO."
   ]
  },
  {
   "cell_type": "code",
   "execution_count": 19,
   "metadata": {},
   "outputs": [
    {
     "name": "stdout",
     "output_type": "stream",
     "text": [
      "El intervalo de búsqueda tras aplicar la mejora propuesta en el algoritmo de minimización de varphi es [ 3.1589145654321644e-05 ,  0.14338212977333784 ]\n",
      "El valor mínimo de varphi encontrado es  [0.84948653] , para s =  0.00108003873144831\n",
      "El valor de rho( 0.00108003873144831 ) =  [0.01795874]\n"
     ]
    }
   ],
   "source": [
    "from varphiMinim import *\n",
    "\n",
    "bestphi, bestrho, bestphiX, forkpoints, Xs, intervalinf, intervalsup = varphiMin(varphiLim0, varphiLimInf, intinfmin, intsupmin, intervalinf, intervalsup, galaxdata)\n",
    "\n",
    "print(\"El intervalo de búsqueda tras aplicar la mejora propuesta en el algoritmo de minimización de varphi es [\", intervalinf, \", \", intervalsup, \"]\")\n",
    "print(\"El valor mínimo de varphi encontrado es \", bestphi, \", para s = \", bestphiX)\n",
    "print(\"El valor de rho(\", bestphiX, \") = \", bestrho)"
   ]
  },
  {
   "cell_type": "markdown",
   "metadata": {},
   "source": [
    "A continuación se muestra la exploración del intervalo de búsqueda para la minimización de varphi para la galaxia DDO43 con perfil ISO. Los puntos rojos representan los puntos explorados en el algoritmo de. minimización del intervalo, la línea negra el intervalo deducido en el algoritmo y los puntos azules los. puntos explorados en la minimización de varphi.\n",
    "![Galaxia DDO43 para el perfil ISO](galaxies/graphics/ISO-DDO43-varphi-improvement.png)"
   ]
  },
  {
   "cell_type": "markdown",
   "metadata": {},
   "source": [
    "### `redMethRotCurveFitting.py`\n",
    "Aquí es donde se realiza todo el proceso de ajuste de curvas de rotación, acudiendo a las funciones mencionadas anteriormente. Consta de tres partes: cálculo de límites, minimización del intervalo de búsqueda y minimización de la función varphi. A continuación, incluimos una galaxia más en nuestro conjunto de galaxias y repetimos el proceso desarrollado anteriormente para los perfiles ISO, BUR y NFW, a modo de ejemplo."
   ]
  },
  {
   "cell_type": "code",
   "execution_count": 28,
   "metadata": {},
   "outputs": [
    {
     "name": "stdout",
     "output_type": "stream",
     "text": [
      "\n",
      "\n",
      "GALAXIA  DDO43\n",
      "Para el perfil  ISO\n",
      "El límite de varphi cuando s tiende a cero es  63.01870724925527\n",
      "El límite de varphi cuando s tiende a infinito es  18.34822521657395\n",
      "El intervalo de búsqueda deducido es [ 6.115059877312416e-05 ,  0.4958583284668916 ]\n",
      "Mínimo encontrado en la exploración del intervalo inferior:  [0.001584893192461114, 15.578755813934777]\n",
      "Mínimo encontrado en la exploración del intervalo superior:  [0.3128654541678574, 18.091742939472056]\n",
      "Tras la mejora propuesta en. el algoritmo de minimización de varphi, el intervalo de búsqueda es [ 6.115059877312416e-05 ,  0.4958583284668916 ]\n",
      "El intervalo de búsqueda tras aplicar la mejora propuesta en el algoritmo de minimización de varphi es [ 6.115059877312416e-05 ,  0.4958583284668916 ]\n",
      "El valor mínimo de varphi encontrado es  [10.14738338] , para s =  0.003966267557348215\n",
      "El valor de rho( 0.003966267557348215 ) =  [1.30710076]\n",
      "Para el perfil  BUR\n",
      "El límite de varphi cuando s tiende a cero es  63.01870724925527\n",
      "El límite de varphi cuando s tiende a infinito es  83.5311745349124\n",
      "El intervalo de búsqueda deducido es [ 1.2055991352620653e-05 ,  1.3429145548443576e+19 ]\n",
      "Mínimo encontrado en la exploración del intervalo inferior:  [0.001584893192461114, 7.355025327713918]\n",
      "Mínimo encontrado en la exploración del intervalo superior:  [630.957344480193, 76.66341785646125]\n",
      "Tras la mejora propuesta en. el algoritmo de minimización de varphi, el intervalo de búsqueda es [ 1.2055991352620653e-05 ,  630.957344480193 ]\n",
      "El intervalo de búsqueda tras aplicar la mejora propuesta en el algoritmo de minimización de varphi es [ 1.2055991352620653e-05 ,  630.957344480193 ]\n",
      "El valor mínimo de varphi encontrado es  [7.07844743] , para s =  0.0018264770152778844\n",
      "El valor de rho( 0.0018264770152778844 ) =  [1.09353085]\n",
      "Para el perfil  NFW\n",
      "El límite de varphi cuando s tiende a cero es  26.401860304583124\n",
      "El límite de varphi cuando s tiende a infinito es  83.5311745349124\n",
      "El intervalo de búsqueda deducido es [ 2.0363031765150112e-06 ,  1.8061317936021627e+19 ]\n",
      "Mínimo encontrado en la exploración del intervalo inferior:  [0.0008612145051146897, 9.748131820009519]\n",
      "Mínimo encontrado en la exploración del intervalo superior:  [630.957344480193, 76.5387579972085]\n",
      "Tras la mejora propuesta en. el algoritmo de minimización de varphi, el intervalo de búsqueda es [ 2.0363031765150112e-06 ,  630.957344480193 ]\n",
      "El intervalo de búsqueda tras aplicar la mejora propuesta en el algoritmo de minimización de varphi es [ 2.0363031765150112e-06 ,  630.957344480193 ]\n",
      "El valor mínimo de varphi encontrado es  [9.7472602] , para s =  0.0008493754431812844\n",
      "El valor de rho( 0.0008493754431812844 ) =  [0.22574926]\n",
      "\n",
      "\n",
      "GALAXIA  DDO46\n",
      "Para el perfil  ISO\n",
      "El límite de varphi cuando s tiende a cero es  63.01870724925527\n",
      "El límite de varphi cuando s tiende a infinito es  18.34822521657395\n",
      "El intervalo de búsqueda deducido es [ 4.532185666649295e-05 ,  0.6074023731010079 ]\n",
      "Mínimo encontrado en la exploración del intervalo inferior:  [0.001584893192461114, 15.578755813934777]\n",
      "Mínimo encontrado en la exploración del intervalo superior:  [0.3832449883627795, 18.13850408365306]\n",
      "Tras la mejora propuesta en. el algoritmo de minimización de varphi, el intervalo de búsqueda es [ 4.532185666649295e-05 ,  0.6074023731010079 ]\n",
      "El intervalo de búsqueda tras aplicar la mejora propuesta en el algoritmo de minimización de varphi es [ 4.532185666649295e-05 ,  0.6074023731010079 ]\n",
      "El valor mínimo de varphi encontrado es  [10.14738337] , para s =  0.003966369800339788\n",
      "El valor de rho( 0.003966369800339788 ) =  [1.30715772]\n",
      "Para el perfil  BUR\n",
      "El límite de varphi cuando s tiende a cero es  63.01870724925527\n",
      "El límite de varphi cuando s tiende a infinito es  83.5311745349124\n",
      "El intervalo de búsqueda deducido es [ 1.144094802793274e-05 ,  1.1279816345776445e+19 ]\n",
      "Mínimo encontrado en la exploración del intervalo inferior:  [0.001584893192461114, 7.355025327713918]\n",
      "Mínimo encontrado en la exploración del intervalo superior:  [630.957344480193, 76.66341785646125]\n",
      "Tras la mejora propuesta en. el algoritmo de minimización de varphi, el intervalo de búsqueda es [ 1.144094802793274e-05 ,  630.957344480193 ]\n",
      "El intervalo de búsqueda tras aplicar la mejora propuesta en el algoritmo de minimización de varphi es [ 1.144094802793274e-05 ,  630.957344480193 ]\n",
      "El valor mínimo de varphi encontrado es  [7.07844743] , para s =  0.0018264712092315807\n",
      "El valor de rho( 0.0018264712092315807 ) =  [1.09352438]\n",
      "Para el perfil  NFW\n",
      "El límite de varphi cuando s tiende a cero es  26.401860304583124\n",
      "El límite de varphi cuando s tiende a infinito es  83.5311745349124\n",
      "El intervalo de búsqueda deducido es [ 2.756666358312187e-06 ,  1.427494157186505e+19 ]\n",
      "Mínimo encontrado en la exploración del intervalo inferior:  [0.0007943282347242813, 9.767401412655829]\n",
      "Mínimo encontrado en la exploración del intervalo superior:  [630.957344480193, 76.5387579972085]\n",
      "Tras la mejora propuesta en. el algoritmo de minimización de varphi, el intervalo de búsqueda es [ 2.756666358312187e-06 ,  630.957344480193 ]\n",
      "El intervalo de búsqueda tras aplicar la mejora propuesta en el algoritmo de minimización de varphi es [ 2.756666358312187e-06 ,  630.957344480193 ]\n",
      "El valor mínimo de varphi encontrado es  [9.7472602] , para s =  0.0008493796624342177\n",
      "El valor de rho( 0.0008493796624342177 ) =  [0.2257513]\n"
     ]
    }
   ],
   "source": [
    "import data as dt\n",
    "\n",
    "galaxlist = [\"DDO43\", \"DDO46\"]\n",
    "\n",
    "fp = open(\"galaxies/DDO46.arff\")\n",
    "dat, metadt = arff.loadarff(fp)\n",
    "data = []\n",
    "for d in dat.tolist():\n",
    "    data.append(np.asarray(d))\n",
    "data = np.asarray(data)\n",
    "galaxies[\"DDO46\"] = {\n",
    "    \"R\": data[:, 0] * 1000,\n",
    "    \"vrot\": abs(data[:, 1]),\n",
    "    \"errs\": data[:, 3],\n",
    "    \"vbary\": np.sqrt(data[:, 4] ** 2 + data[:, 5] ** 2)\n",
    "}\n",
    "fp.close()\n",
    "\n",
    "radii = galaxies[\"DDO46\"][\"R\"]\n",
    "galaxdata[\"radii\"] = radii\n",
    "vrot = galaxies[\"DDO46\"][\"vrot\"]\n",
    "galaxdata[\"vrot\"] = vrot\n",
    "vbary = galaxies[\"DDO46\"][\"vbary\"]\n",
    "galaxdata[\"vbary\"] = vbary\n",
    "n = len(radii)\n",
    "vones = np.ones(n)\n",
    "galaxdata[\"vones\"] = vones\n",
    "weights = 1 / ((n - dt.nu) * galaxies[\"DDO46\"][\"errs\"] ** 2)\n",
    "galaxdata[\"weights\"] = weights\n",
    "totalnullvbary = np.sum(vbary) == 0\n",
    "galaxdata[\"totalnullvbary\"] = totalnullvbary\n",
    "somenullvbary = round(np.prod(vbary)) == 0\n",
    "galaxdata[\"somenullvbary\"] = somenullvbary\n",
    "vv = cf.vv(galaxdata)\n",
    "galaxdata[\"vv\"] = vv\n",
    "vvbary = cf.vvbary(galaxdata)\n",
    "galaxdata[\"vvbary\"] = vvbary\n",
    "\n",
    "profiles = [\"ISO\", \"BUR\", \"NFW\"]\n",
    "for g in galaxies:\n",
    "    print(\"\\n\")\n",
    "    print(\"GALAXIA \", g)\n",
    "    for p in profiles:\n",
    "        galaxdata[\"profile\"] = p\n",
    "        print(\"Para el perfil \", p)\n",
    "        \"\"\"\n",
    "        Cálculo de límites\n",
    "        \"\"\"\n",
    "        limits = calLimits(galaxdata)\n",
    "        varphiLim0 = limits[0]\n",
    "        varphiLimInf = limits[1]\n",
    "        print(\"El límite de varphi cuando s tiende a cero es \", varphiLim0)\n",
    "        print(\"El límite de varphi cuando s tiende a infinito es \", varphiLimInf)\n",
    "        \"\"\"\n",
    "        Minimización del intervalo de búsqueda\n",
    "        \"\"\"\n",
    "        interval = intervalMin(varphiLim0, varphiLimInf, galaxdata)\n",
    "        intervalinf = interval[0][0]\n",
    "        intervalsup = interval[0][1]\n",
    "        print(\"El intervalo de búsqueda deducido es [\", intervalinf, \", \", intervalsup, \"]\")\n",
    "        intinfmin = interval[1]\n",
    "        intsupmin = interval[2]\n",
    "        print(\"Mínimo encontrado en la exploración del intervalo inferior: \", intinfmin)\n",
    "        print(\"Mínimo encontrado en la exploración del intervalo superior: \", intsupmin)\n",
    "        \"\"\"\n",
    "        Minimización de la función varphi\n",
    "        \"\"\"\n",
    "        pmin = varphiMin(varphiLim0, varphiLimInf, intinfmin, intsupmin, intervalinf, intervalsup, galaxdata)\n",
    "        minvarphi = pmin[0]\n",
    "        minrho = pmin[1]\n",
    "        minvarphiX = pmin[2]\n",
    "        intervalinf = pmin[5]\n",
    "        intervalsup = pmin[6]\n",
    "        print(\"Tras la mejora propuesta en. el algoritmo de minimización de varphi, el intervalo de búsqueda es [\", intervalinf, \", \", intervalsup, \"]\")\n",
    "        print(\"El intervalo de búsqueda tras aplicar la mejora propuesta en el algoritmo de minimización de varphi es [\", intervalinf, \", \", intervalsup, \"]\")\n",
    "        print(\"El valor mínimo de varphi encontrado es \", minvarphi, \", para s = \", minvarphiX)\n",
    "        print(\"El valor de rho(\", minvarphiX, \") = \", minrho)"
   ]
  }
 ],
 "metadata": {
  "kernelspec": {
   "display_name": "Python 3",
   "language": "python",
   "name": "python3"
  },
  "language_info": {
   "codemirror_mode": {
    "name": "ipython",
    "version": 3
   },
   "file_extension": ".py",
   "mimetype": "text/x-python",
   "name": "python",
   "nbconvert_exporter": "python",
   "pygments_lexer": "ipython3",
   "version": "3.7.1"
  }
 },
 "nbformat": 4,
 "nbformat_minor": 2
}
