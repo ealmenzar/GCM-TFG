{
 "cells": [
  {
   "cell_type": "markdown",
   "metadata": {},
   "source": [
    "# Repositorio GCM-TFG\n",
    "## Problemas de optimización en el modelado de materia oscura galáctica\n",
    "\n",
    "### `data.py`\n",
    "Contiene la lista `galaxlist` de galaxias a explorar. Para cada galaxia se abre y lee su respectivo archivo `.arff`, en el que cada fila corresponde a una partícula que se ha observado que gira en torno a la galaxia. Para cada una de estas partículas se tienen los siguientes datos:\n",
    "* Radio de giro en torno a la galaxia\n",
    "* Velocidad rotacional de la partícula\n",
    "* V_{adc}\n",
    "* Errores\n",
    "* Velocidad debida a la materia bariónica bariónica\n",
    "\n",
    "A partir de estos datos construye el diccionario `galaxies` donde se asocia cada galaxia con los datos que se tienen de ella:\n",
    "* `R`: Vector de radios de giro de las diferentes partículas observadas\n",
    "* `vrot`: Vector de velocidades rotacionales\n",
    "* ?\n",
    "* `errs`: Vector de errores\n",
    "* `vbary`: Vector de velocidades debidas a la materia bariónica\n",
    "\n",
    "A continuación se muestra un ejemplo de lectura y recogida de datos de la galaxia DDO43."
   ]
  },
  {
   "cell_type": "code",
   "execution_count": 1,
   "metadata": {},
   "outputs": [],
   "source": [
    "from scipy.io import arff\n",
    "import numpy as np\n",
    "\n",
    "galaxlist = [\"DDO43\"]\n",
    "galaxies = {}\n",
    "for i in galaxlist:\n",
    "    fp = open(\"galaxies/\"+i+\".arff\")\n",
    "    dt, metadt = arff.loadarff(fp)\n",
    "    data = []\n",
    "    for d in dt.tolist():\n",
    "        data.append(np.asarray(d))\n",
    "    data = np.asarray(data)\n",
    "    galaxies[i] = {\n",
    "        \"R\": data[:, 0] * 1000,\n",
    "        \"vrot\": abs(data[:, 1]),\n",
    "        \"errs\": data[:, 3],\n",
    "        \"vbary\": np.sqrt(data[:, 4] ** 2 + data[:, 5] ** 2)\n",
    "    }\n",
    "    fp.close()"
   ]
  },
  {
   "cell_type": "markdown",
   "metadata": {},
   "source": [
    "En `data.py` también se declaran las constantes $\\nu$ (número de parámetros libres) y $CteDim$ (constante de adimensionalización).\n",
    "* Puesto que sólo trabajaremos con los perfiles ISO, BUR y NFW, $\\nu = 2$.\n",
    "* $CteDim = \\frac{10000}{4.51697\\times3.0856776^ 2}$.\n",
    "\n",
    "### `commonFunctions.py`\n",
    "Aquí se definen algunas funciones comunes a todas las galaxias y para cualquiera de los perfiles ISO, BUR y NFW.  \n",
    "* `WeighProd(x, y, sigmas)`: Dados los arrays `x` e `y`, y los pesos `sigmas` devuelve el producto escalar pesado definido en (15).  \n",
    "* `ginf(x, model)`: Dados un array `x` y un perfil de densidad `model`, devuelve el valor de g cuando s tiende a infinito, definida en la Tabla 2.  \n",
    "* `eqVLimInf(t, ginf, galaxdata)`: Dados el parámetro `t`, el valor de g definida en la Tabla 2 cuando s tiende a infinito y el diccionario `galaxdata` de datos de la galaxia, devuelve la ecuación definida en (33).  \n",
    "* `g0(x, model)`: Dado un array `x` y un perfil de densidad `model`, devuelve el valor de g cuando s tiende a cero, definida en la Tabla 2.  \n",
    "* `eqVLim0(t, g0, galaxdata)`: Dados el parámetro `t`, el valor de g definida en la Tabla 2 cuando s tiende a cero y el diccionario `galaxdata` de datos de la galaxia, devuelve la ecuación definida en (35).  \n",
    "* `v(r, s, model)`: Dado un array de radios `r`, un array de inversos de parámetros de escalas `s` y un perfil de densidad de materia oscura `model`, devuelve el valor de la ecuación definida en (18) para estos parámetros.  \n",
    "* `chiquad(rho, s, galaxdata)`: Dados un array de parámetro de densidad central `rho`, un array de de inversos de parámetros de escala `s` y un diccionario de datos de una galaxia `galaxdata`, devuelve el valor de la ecuación definida en (16) para estos parámetros.  \n",
    "* `rho(s, galaxdata)`: Dados un array de inversos de parámetros de escala `s` y un diccionario de datos de una galaxia `galaxdata`, devuelve el valor de rho estudiado en la Proposición 1.  \n",
    "* `alphaMV(s, galaxdata)`: Dados un array de inversos de parámetros de escala `s` y un diccionario de datos de una galaxia `galaxdata`, devuelve el valor de la ecuación (24) para estos parámetros.  \n",
    "* `vv(galaxdata)`: Dado un diccionario de datos de una galaxia `galaxdata`, devuelve el producto escalar pesado de la velocidad rotacional.  \n",
    "* `vvbary(galaxdata)`: Dado un diccionario de datos de una galaxia `galaxdata`, devuelve el el producto escalar pesado de la velocidad debida a la materia bariónica.  \n",
    "* `phi(s, galaxdata)`: Dados un array de inversos de parámetros de escala `s` y un diccionario de datos de una galaxia `galaxdata`, devuelve el valor de la función varphi y el valor de la función rho para estos parámetros.\n",
    "### `calLimits.py`\n",
    "Aquí se define la función que calcula los límites de varphi en cero y en infinito, usando el Lema 1.  \n",
    "* `calLimits(galaxdata)`: Dado un diccionario de datos de una galaxia `galaxdata`, devuelve un array con los valores de los límites de varphi en cero y en infinito.  \n",
    "### `intervalMinim.py`\n",
    "Aquí se definen las distintas funciones que forman el algoritmo de minimización del intervalo de búsqueda. Se especifica una tolerancia `tol`$=10^{-2}$ y se fija la semilla del random a 1.  \n",
    "* `inftestElementwise(eval)`: Dado un array de puntos vecinos al candidato a extremo inferior del intervalo `eval`, devuelve dos booleanos. El primero indica si los puntos vecinos de la derecha cumplen la ecuación (40) y el segundo indica si la cumplen los vecinos de la izquierda.  \n",
    "* `suptestElementwise(eval)`: Dado un array de puntos vecinos al candidato a extremo superior del intervalo `eval`, devuelve dos booleanos. El primero indica si los puntos vecinos de la izquierda cumplen la ecuación (39) y el segundo indica si la cumplen los vecinos de la derecha.  \n",
    "* `inftestElementsum(eval)`: Dado un array de puntos vecinos al candidato a extremo inferior del intervalo `eval`, devuelve dos booleanos. El primero indica si la suma de los puntos vecinos de la derecha cumplen la ecuación (40) y el segundo indica si la cumple la suma de los vecinos de la izquierda.\n",
    "* `suptestElementsum(eval)`: Dado un array de puntos vecinos al candidato a extremo superior del intervalo `eval`, devuelve dos booleanos. El primero indica si la suma de los puntos vecinos de la izquierda cumplen la ecuación (39) y el segundo indica si la cumple la suma de los vecinos de la derecha.  \n",
    "* `infConditions(test1, test2, intervalinf, stop, i)`: Dados un booleano `test1` indicando si los puntos de la derecha (o su suma) cumplen (40), un booleano `test2` indicando si los puntos de la izquierda (o su suma) cumplen (40), un candidato a extremo inferior del intervalo `intervalinf`, un parámetro que controla la condición de parada del algoritmo `stop` y un parámetro `i` que almacena el anterior candidato a extremo inferior, la función decide si el candidato cumple la condición óptima y en qué dirección moverse.  "
   ]
  },
  {
   "cell_type": "code",
   "execution_count": 3,
   "metadata": {},
   "outputs": [],
   "source": [
    "def infConditions(test1, test2, intervalinf, stop, i):    \n",
    "    if (not test1) and test2:\n",
    "        stop = True\n",
    "        direction = -1\n",
    "        i = intervalinf\n",
    "        intervalinf = intervalinf + random.uniform(0.2, 0.6) * direction\n",
    "    elif (not test1) and (not test2):\n",
    "        if stop:\n",
    "            stop = False\n",
    "        direction = -1\n",
    "        intervalinf = intervalinf + random.uniform(0.2, 0.3) * direction\n",
    "    elif test1 and test2:\n",
    "        if stop:\n",
    "            direction = 0\n",
    "            intervalinf = i\n",
    "        else:\n",
    "            direction = 1\n",
    "            intervalinf = intervalinf + random.uniform(0.2, 0.3) * direction\n",
    "    else:\n",
    "        if stop:\n",
    "            stop = False\n",
    "        direction = -1\n",
    "        intervalinf = intervalinf + random.uniform(0.2, 0.3) * direction\n",
    "    return intervalinf, direction, stop, i"
   ]
  },
  {
   "cell_type": "markdown",
   "metadata": {},
   "source": [
    "* `supConditions(test1, test2, intervalsup, stop, i)`: Dados un booleano `test1` indicando si los puntos de la izquierda (o su suma) cumplen (39), un booleano `test2` indicando si los puntos de la derecha (o su suma) cumplen (39), un candidato a extremo superior del intervalo `intervalsup`, un parámetro que controla la condición de parada del algoritmo `stop` y un parámetro `i` que almacena el anterior candidato a extremo superior, la función decide si el candidato cumple la condición óptima y en qué dirección moverse.  \n",
    "* `jumpCondition(twoclosevar, varLimdistance, interval, direction, k)`: Dados un booleano `twoclosevar` indicando si los dos últimos candidatos están \"cerca\", un valor `varLimdistance` indicando a qué distancia está el candidato del valor del límite, un candidato `interval`, una dirección (-1, 0 o 1) `direction` y un contador de la condición de salto `k`, la función devuelve si ha habido salto y, en caso de que sí, cuál es el nuevo candidato.  \n",
    "* `intervalMin(varphiLim0, varphiLimInf, galaxdata)`: Dados el valor del límite de varphi en cero `varphiLim0`, el valor del límite de varphi en infinito `varphiLimInf` y un diccionario de datos de una galaxia `galaxdata`, la función realiza la minimización del intervalo de búsqueda. Primero busca el extremo inferior que cumple alguna condición satisfactoria y luego el extremo superior, análogamente. Finalmente devuelve los valores propuestos como extremos, el valor mínimo de varphi encontrado en la búsqueda del extremo inferior y el valor mínimo de varphi encontrado en la búsqueda del extremo superior. También puede devolver datos para la elaboración de gráficas."
   ]
  },
  {
   "cell_type": "code",
   "execution_count": null,
   "metadata": {},
   "outputs": [],
   "source": [
    "# PARA EL INTERVALO INFERIOR #\n",
    "\n",
    "maxiter = 0\n",
    "direction = -1\n",
    "intervalinf = -3\n",
    "k = 0\n",
    "lastint, rho = phi(np.array([10 ** intervalinf]), galaxdata)\n",
    "stop = False\n",
    "i = 0.0\n",
    "infminphi = 10**4  # Para devolver el mínimo encontrado en la exploración\n",
    "infminx = 0        # Para devolver el mínimo encontrado en la exploración\n",
    "\n",
    "while maxiter < 100 and direction != 0 and k < 10:\n",
    "    maxiter += 1\n",
    "    # Creo el vecindario de intervalinf\n",
    "    s = 10**(intervalinf + np.array([-0.2, -0.1, 0.0, 0.1, 0.2]))\n",
    "    # Evalúo el vecindario de intervalinf\n",
    "    varphi, rho = phi(s, galaxdata)\n",
    "    # Almaceno el mínimo valor encontrado hasta el momento\n",
    "    if min(varphi) < infminphi:\n",
    "        infminphi = min(varphi)\n",
    "        pos = (varphi.tolist()).index(infminphi)\n",
    "        infminx = s[pos]\n",
    "# Para evaluar las condiciones del candidato actual\n",
    "eval = abs(varphi - varphiLim0) / varphiLim0\n",
    "# Estudio la situación de los puntos vecinos\n",
    "test1, test2 = inftestElementwise(eval)\n",
    "# Decido movimiento\n",
    "intervalinf, direction, stop, i = infConditions(test1, test2, intervalinf, stop, i)\n",
    "# Actualizo valores\n",
    "var, rho = phi(np.asarray([10 ** intervalinf]), galaxdata)\n",
    "\n",
    "# Compruebo si estoy en condición de salto\n",
    "twoclosevar = abs(var - lastint) < tol\n",
    "varLimdistance = abs(var - varphiLim0)\n",
    "jump, intervalinf, k = jumpCondition(twoclosevar, varLimdistance, intervalinf, direction, k)\n",
    "if jump:\n",
    "    lastint, rho = phi(np.asarray([float(10 ** intervalinf)]), galaxdata)\n",
    "else:\n",
    "    lastint = var"
   ]
  },
  {
   "cell_type": "markdown",
   "metadata": {},
   "source": [
    "### `varphiMinim.py`\n",
    "### `redMethRotCurveFitting.py`"
   ]
  },
  {
   "cell_type": "code",
   "execution_count": null,
   "metadata": {},
   "outputs": [],
   "source": []
  }
 ],
 "metadata": {
  "kernelspec": {
   "display_name": "Python 3",
   "language": "python",
   "name": "python3"
  },
  "language_info": {
   "codemirror_mode": {
    "name": "ipython",
    "version": 3
   },
   "file_extension": ".py",
   "mimetype": "text/x-python",
   "name": "python",
   "nbconvert_exporter": "python",
   "pygments_lexer": "ipython3",
   "version": "3.7.1"
  }
 },
 "nbformat": 4,
 "nbformat_minor": 2
}
