{
 "cells": [
  {
   "cell_type": "markdown",
   "metadata": {},
   "source": [
    "# Repositorio GCM-TFG\n",
    "## Problemas de optimización en el modelado de materia oscura galáctica\n",
    "\n",
    "### `data.py`\n",
    "Contiene la lista `galaxlist` de galaxias a explorar. Para cada galaxia se abre y lee su respectivo archivo `.arff`, en el que cada fila corresponde a una partícula que se ha observado que gira en torno a la galaxia. Para cada una de estas partículas se tienen los siguientes datos:\n",
    "* Radio de giro en torno a la galaxia\n",
    "* vrot\n",
    "* ?\n",
    "* errs\n",
    "* vbary\n",
    "\n",
    "A partir de estos datos construye el diccionario `galaxies` donde se asocia cada galaxia con los datos que se tienen de ella:\n",
    "* `R`: Vector de radios de giro de las diferentes partículas observadas\n",
    "* `vrot`: Vector de \n",
    "* ?\n",
    "* `errs`: Vector de \n",
    "* `vbary`: Vector de \n",
    "\n",
    "A continuación se muestra un ejemplo para una lista de galaxias que contiene solamente la galaxia DDO43."
   ]
  },
  {
   "cell_type": "code",
   "execution_count": 7,
   "metadata": {},
   "outputs": [
    {
     "name": "stdout",
     "output_type": "stream",
     "text": [
      "{'DDO43': {'R': array([ 470.     ,  930.00001, 1400.     , 1860.     , 2329.9999 ,\n",
      "       2790.     , 3260.     , 3720.     , 4190.0001 ]), 'vrot': array([ 7.9899998, 18.290001 , 24.59     , 28.82     , 32.959999 ,\n",
      "       33.830002 , 36.07     , 36.490002 , 31.09     ]), 'errs': array([2.8900001, 2.3900001, 2.25     , 2.0699999, 2.27     , 2.51     ,\n",
      "       2.6700001, 2.8199999, 2.8199999]), 'vbary': array([ 8.50096437, 12.10877402, 16.20661634, 21.7422264 , 24.2805876 ,\n",
      "       24.91602689, 25.43348398, 26.03271224, 26.90978314])}}\n"
     ]
    }
   ],
   "source": [
    "from scipy.io import arff\n",
    "import numpy as np\n",
    "\n",
    "galaxlist = [\"DDO43\"]\n",
    "galaxies = {}\n",
    "for i in galaxlist:\n",
    "    fp = open(\"galaxies/\"+i+\".arff\")\n",
    "    dt, metadt = arff.loadarff(fp)\n",
    "    data = []\n",
    "    for d in dt.tolist():\n",
    "        data.append(np.asarray(d))\n",
    "    data = np.asarray(data)\n",
    "    galaxies[i] = {\n",
    "        \"R\": data[:, 0] * 1000,\n",
    "        \"vrot\": abs(data[:, 1]),\n",
    "        \"errs\": data[:, 3],\n",
    "        \"vbary\": np.sqrt(data[:, 4] ** 2 + data[:, 5] ** 2)\n",
    "    }\n",
    "    fp.close()\n",
    "print(galaxies)"
   ]
  },
  {
   "cell_type": "markdown",
   "metadata": {},
   "source": [
    "En `data.py` también se declaran las constantes \n",
    "* $\\nu = 2$ \n",
    "* $CteDim = \\frac{10000}{4.51697\\times3.0856776^ 2}$.\n",
    "\n",
    "### `commonFunctions.py`\n",
    "### `calLimits.py`\n",
    "### `intervalMinim.py`\n",
    "### `varphiMinim.py`\n",
    "### `redMethRotCurveFitting.py`"
   ]
  },
  {
   "cell_type": "code",
   "execution_count": null,
   "metadata": {},
   "outputs": [],
   "source": []
  }
 ],
 "metadata": {
  "kernelspec": {
   "display_name": "Python 3",
   "language": "python",
   "name": "python3"
  },
  "language_info": {
   "codemirror_mode": {
    "name": "ipython",
    "version": 3
   },
   "file_extension": ".py",
   "mimetype": "text/x-python",
   "name": "python",
   "nbconvert_exporter": "python",
   "pygments_lexer": "ipython3",
   "version": "3.7.1"
  }
 },
 "nbformat": 4,
 "nbformat_minor": 2
}
