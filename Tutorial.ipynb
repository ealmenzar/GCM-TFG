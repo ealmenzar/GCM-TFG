{
 "cells": [
  {
   "cell_type": "markdown",
   "metadata": {},
   "source": [
    "# Repositorio GCM-TFG\n",
    "## Problemas de optimización en el modelado de materia oscura galáctica\n",
    "\n",
    "En este repositorio se implementan las funciones necesarias para tratar el problema de modelado de componentes galácticas, en particular el de la componente de materia oscura.  \n",
    "A continuación se detallan los ficheros y sus respectivas funciones, así como los tipos y estructuras de datos que usan.\n",
    "### `data.py`\n",
    "Contiene la lista `galaxlist` de galaxias a explorar. Para cada galaxia se abre y lee su respectivo archivo `.arff`, en el que cada fila corresponde a una partícula que se ha observado que gira en torno a la galaxia. Para cada una de estas partículas se tienen los siguientes datos:\n",
    "* Radio de giro en torno a la galaxia\n",
    "* Velocidad rotacional de la partícula\n",
    "* Errores\n",
    "* Velocidad debida a la materia bariónica bariónica\n",
    "\n",
    "A partir de estos datos construye el diccionario `galaxies` donde se asocia cada galaxia con los datos que se tienen de ella:\n",
    "* `R`: Vector de radios de giro de las diferentes partículas observadas\n",
    "* `vrot`: Vector de velocidades rotacionales\n",
    "* `errs`: Vector de errores\n",
    "* `vbary`: Vector de velocidades debidas a la materia bariónica\n",
    "\n",
    "A continuación se muestra un ejemplo de lectura y recogida de datos de una de las 23 galaxias estudiadas."
   ]
  },
  {
   "cell_type": "code",
   "execution_count": 2,
   "metadata": {},
   "outputs": [],
   "source": [
    "from scipy.io import arff\n",
    "import numpy as np\n",
    "\n",
    "galaxlist = [\"DDO43\"]\n",
    "galaxies = {}\n",
    "for i in galaxlist:\n",
    "    fp = open(\"galaxies/\"+i+\".arff\")\n",
    "    dt, metadt = arff.loadarff(fp)\n",
    "    data = []\n",
    "    for d in dt.tolist():\n",
    "        data.append(np.asarray(d))\n",
    "    data = np.asarray(data)\n",
    "    galaxies[i] = {\n",
    "        \"R\": data[:, 0] * 1000,\n",
    "        \"vrot\": abs(data[:, 1]),\n",
    "        \"errs\": data[:, 3],\n",
    "        \"vbary\": np.sqrt(data[:, 4] ** 2 + data[:, 5] ** 2)\n",
    "    }\n",
    "    fp.close()"
   ]
  },
  {
   "cell_type": "markdown",
   "metadata": {},
   "source": [
    "Vector de radios de la galaxia DDO43:"
   ]
  },
  {
   "cell_type": "code",
   "execution_count": 3,
   "metadata": {},
   "outputs": [
    {
     "name": "stdout",
     "output_type": "stream",
     "text": [
      "[ 470.       930.00001 1400.      1860.      2329.9999  2790.\n",
      " 3260.      3720.      4190.0001 ]\n"
     ]
    }
   ],
   "source": [
    "print(galaxies[\"DDO43\"][\"R\"])"
   ]
  },
  {
   "cell_type": "markdown",
   "metadata": {},
   "source": [
    "Vector de velocidades rotacionales de la galaxia DDO43:"
   ]
  },
  {
   "cell_type": "code",
   "execution_count": 4,
   "metadata": {},
   "outputs": [
    {
     "name": "stdout",
     "output_type": "stream",
     "text": [
      "[ 7.9899998 18.290001  24.59      28.82      32.959999  33.830002\n",
      " 36.07      36.490002  31.09     ]\n"
     ]
    }
   ],
   "source": [
    "print(galaxies[\"DDO43\"][\"vrot\"])"
   ]
  },
  {
   "cell_type": "markdown",
   "metadata": {},
   "source": [
    "Vector de errores de la galaxia DDO43:"
   ]
  },
  {
   "cell_type": "code",
   "execution_count": 5,
   "metadata": {},
   "outputs": [
    {
     "name": "stdout",
     "output_type": "stream",
     "text": [
      "[2.8900001 2.3900001 2.25      2.0699999 2.27      2.51      2.6700001\n",
      " 2.8199999 2.8199999]\n"
     ]
    }
   ],
   "source": [
    "print(galaxies[\"DDO43\"][\"errs\"])"
   ]
  },
  {
   "cell_type": "markdown",
   "metadata": {},
   "source": [
    "Vector de velocidades debidas a la materia bariónica de la galaxia DDO43:"
   ]
  },
  {
   "cell_type": "code",
   "execution_count": 6,
   "metadata": {},
   "outputs": [
    {
     "name": "stdout",
     "output_type": "stream",
     "text": [
      "[ 8.50096437 12.10877402 16.20661634 21.7422264  24.2805876  24.91602689\n",
      " 25.43348398 26.03271224 26.90978314]\n"
     ]
    }
   ],
   "source": [
    "print(galaxies[\"DDO43\"][\"vbary\"])"
   ]
  },
  {
   "cell_type": "markdown",
   "metadata": {},
   "source": [
    "En `data.py` también se declaran las constantes $\\nu$ (número de parámetros libres) y $CteDim$ (constante de adimensionalización).\n",
    "* Puesto que sólo trabajaremos con los perfiles ISO, BUR y NFW, $\\nu = 2$.\n",
    "* $CteDim = \\frac{10000}{4.51697\\times3.0856776^ 2}$.  \n",
    "\n",
    "A continuación creamos el diccionario `galaxdata`, donde almacenaremos los datos que más usaremos, en este caso de la galaxia DDO43."
   ]
  },
  {
   "cell_type": "code",
   "execution_count": 7,
   "metadata": {},
   "outputs": [],
   "source": [
    "import commonFunctions as cf\n",
    "import data as dt\n",
    "\n",
    "galaxdata = {\n",
    "    \"radii\": np.array([]),\n",
    "    \"vrot\": np.array([]),\n",
    "    \"vbary\": np.array([]),\n",
    "    \"weights\": np.array([]),\n",
    "    \"CteDim\": dt.CteDim,\n",
    "    \"totalnullvbary\": False,\n",
    "    \"somenullvbary\": False,\n",
    "    \"vones\": np.array([]),\n",
    "    \"vv\": np.array([]),\n",
    "    \"vvbary\": np.array([]),\n",
    "    \"profile\": '',\n",
    "    \"graphic\": False\n",
    "}\n",
    "\n",
    "for i in galaxlist:\n",
    "    radii = galaxies[i][\"R\"]\n",
    "    galaxdata[\"radii\"] = radii\n",
    "    vrot = galaxies[i][\"vrot\"]\n",
    "    galaxdata[\"vrot\"] = vrot\n",
    "    vbary = galaxies[i][\"vbary\"]\n",
    "    galaxdata[\"vbary\"] = vbary\n",
    "    n = len(radii)\n",
    "    vones = np.ones(n)\n",
    "    galaxdata[\"vones\"] = vones\n",
    "    weights = 1 / ((n - dt.nu) * galaxies[i][\"errs\"] ** 2)\n",
    "    galaxdata[\"weights\"] = weights\n",
    "    totalnullvbary = np.sum(vbary) == 0\n",
    "    galaxdata[\"totalnullvbary\"] = totalnullvbary\n",
    "    somenullvbary = round(np.prod(vbary)) == 0\n",
    "    galaxdata[\"somenullvbary\"] = somenullvbary\n",
    "    vv = cf.vv(galaxdata)\n",
    "    galaxdata[\"vv\"] = vv\n",
    "    vvbary = cf.vvbary(galaxdata)\n",
    "    galaxdata[\"vvbary\"] = vvbary\n",
    "    # galaxdata[\"graphic\"] = True"
   ]
  },
  {
   "cell_type": "markdown",
   "metadata": {},
   "source": [
    "### `commonFunctions.py`\n",
    "Aquí se definen algunas funciones comunes a todas las galaxias y para cualquiera de los perfiles ISO, BUR y NFW.  \n",
    "* `WeighProd(x, y, sigmas)`: Dados los arrays `x` e `y`, y los pesos `sigmas` devuelve el producto escalar pesado definido en (15).  \n",
    "* `ginf(x, model)`: Dados un array `x` y un perfil de densidad `model`, devuelve el valor de g cuando s tiende a infinito, definida en la Tabla 2.  \n",
    "* `eqVLimInf(t, ginf, galaxdata)`: Dados el parámetro `t`, el valor de g definida en la Tabla 2 cuando s tiende a infinito y el diccionario `galaxdata` de datos de la galaxia, devuelve la ecuación definida en (33).  \n",
    "* `g0(x, model)`: Dado un array `x` y un perfil de densidad `model`, devuelve el valor de g cuando s tiende a cero, definida en la Tabla 2.  \n",
    "* `eqVLim0(t, g0, galaxdata)`: Dados el parámetro `t`, el valor de g definida en la Tabla 2 cuando s tiende a cero y el diccionario `galaxdata` de datos de la galaxia, devuelve la ecuación definida en (35).  \n",
    "* `v(r, s, model)`: Dado un array de radios `r`, un array de inversos de parámetros de escalas `s` y un perfil de densidad de materia oscura `model`, devuelve el valor de la ecuación definida en (18) para estos parámetros.  \n",
    "* `chiquad(rho, s, galaxdata)`: Dados un array de parámetro de densidad central `rho`, un array de de inversos de parámetros de escala `s` y un diccionario de datos de una galaxia `galaxdata`, devuelve el valor de la ecuación definida en (16) para estos parámetros.  \n",
    "* `rho(s, galaxdata)`: Dados un array de inversos de parámetros de escala `s` y un diccionario de datos de una galaxia `galaxdata`, devuelve el valor de rho estudiado en la Proposición 1.  \n",
    "* `alphaMV(s, galaxdata)`: Dados un array de inversos de parámetros de escala `s` y un diccionario de datos de una galaxia `galaxdata`, devuelve el valor de la ecuación (24) para estos parámetros.  \n",
    "* `vv(galaxdata)`: Dado un diccionario de datos de una galaxia `galaxdata`, devuelve el producto escalar pesado de la velocidad rotacional.  \n",
    "* `vvbary(galaxdata)`: Dado un diccionario de datos de una galaxia `galaxdata`, devuelve el el producto escalar pesado de la velocidad debida a la materia bariónica.  \n",
    "* `phi(s, galaxdata)`: Dados un array de inversos de parámetros de escala `s` y un diccionario de datos de una galaxia `galaxdata`, devuelve el valor de la función varphi y el valor de la función rho para estos parámetros.\n",
    "\n",
    "### `calLimits.py`\n",
    "Aquí se define la función que calcula los límites de varphi en cero y en infinito, usando el Lema 1.  \n",
    "* `calLimits(galaxdata)`: Dado un diccionario de datos de una galaxia `galaxdata`, devuelve un array con los valores de los límites de varphi en cero y en infinito.  \n",
    "Calculamos los límites para la galaxia DDO43 con el perfil ISO."
   ]
  },
  {
   "cell_type": "code",
   "execution_count": 8,
   "metadata": {},
   "outputs": [],
   "source": [
    "from calLimits import *\n",
    "\n",
    "galaxdata[\"profile\"] = \"ISO\"\n",
    "varphiLim0, varphiLimInf = calLimits(galaxdata)"
   ]
  },
  {
   "cell_type": "markdown",
   "metadata": {},
   "source": [
    "El límite de varphi cuando s tiende a 0 para la galaxia DDO43 con el perfil ISO es"
   ]
  },
  {
   "cell_type": "code",
   "execution_count": 9,
   "metadata": {},
   "outputs": [
    {
     "name": "stdout",
     "output_type": "stream",
     "text": [
      "3.7583267955556607\n"
     ]
    }
   ],
   "source": [
    "print(varphiLim0)"
   ]
  },
  {
   "cell_type": "markdown",
   "metadata": {},
   "source": [
    "El límite de varphi cuando s tiende a infinito para la galaxia DDO43 con el perfil ISO es"
   ]
  },
  {
   "cell_type": "code",
   "execution_count": 10,
   "metadata": {},
   "outputs": [
    {
     "name": "stdout",
     "output_type": "stream",
     "text": [
      "4.058958699663322\n"
     ]
    }
   ],
   "source": [
    "print(varphiLimInf)"
   ]
  },
  {
   "cell_type": "markdown",
   "metadata": {},
   "source": [
    "Calculamos los límites para la galaxia DDO43 con el perfil BUR."
   ]
  },
  {
   "cell_type": "code",
   "execution_count": 11,
   "metadata": {},
   "outputs": [],
   "source": [
    "galaxdata[\"profile\"] = \"BUR\"\n",
    "varphiLim0, varphiLimInf = calLimits(galaxdata)"
   ]
  },
  {
   "cell_type": "markdown",
   "metadata": {},
   "source": [
    "El límite de varphi cuando s tiende a 0 para la galaxia DDO43 con el perfil BUR es"
   ]
  },
  {
   "cell_type": "code",
   "execution_count": 12,
   "metadata": {},
   "outputs": [
    {
     "name": "stdout",
     "output_type": "stream",
     "text": [
      "3.7583267955556607\n"
     ]
    }
   ],
   "source": [
    "print(varphiLim0)"
   ]
  },
  {
   "cell_type": "markdown",
   "metadata": {},
   "source": [
    "El límite de varphi cuando s tiende a infinito para la galaxia DDO43 con el perfil BUR es"
   ]
  },
  {
   "cell_type": "code",
   "execution_count": 13,
   "metadata": {},
   "outputs": [
    {
     "name": "stdout",
     "output_type": "stream",
     "text": [
      "10.866553658143346\n"
     ]
    }
   ],
   "source": [
    "print(varphiLimInf)"
   ]
  },
  {
   "cell_type": "markdown",
   "metadata": {},
   "source": [
    "Calculamos los límites para la galaxia DDO43 con el perfil NFW."
   ]
  },
  {
   "cell_type": "code",
   "execution_count": 14,
   "metadata": {},
   "outputs": [],
   "source": [
    "galaxdata[\"profile\"] = \"NFW\"\n",
    "varphiLim0, varphiLimInf = calLimits(galaxdata)"
   ]
  },
  {
   "cell_type": "markdown",
   "metadata": {},
   "source": [
    "El límite de varphi cuando s tiende a 0 para la galaxia DDO43 con el perfil NFW es"
   ]
  },
  {
   "cell_type": "code",
   "execution_count": 15,
   "metadata": {},
   "outputs": [
    {
     "name": "stdout",
     "output_type": "stream",
     "text": [
      "1.448860004687731\n"
     ]
    }
   ],
   "source": [
    "print(varphiLim0)"
   ]
  },
  {
   "cell_type": "raw",
   "metadata": {},
   "source": [
    "El límite de varphi cuando s tiende a infinito para la galaxia DDO43 con el perfil NFW es"
   ]
  },
  {
   "cell_type": "code",
   "execution_count": 16,
   "metadata": {},
   "outputs": [
    {
     "name": "stdout",
     "output_type": "stream",
     "text": [
      "10.866553658143346\n"
     ]
    }
   ],
   "source": [
    "print(varphiLimInf)"
   ]
  },
  {
   "cell_type": "markdown",
   "metadata": {},
   "source": [
    "### `intervalMinim.py`\n",
    "Aquí se definen las distintas funciones que forman el algoritmo de reducción del intervalo de búsqueda. Se especifica una tolerancia `tol`$=10^{-2}$ y se fija la semilla del random a 1.  \n",
    "* `inftestElementwise(eval)`: Dado un array de puntos vecinos al candidato a extremo inferior del intervalo `eval`, devuelve dos booleanos. El primero indica si los puntos vecinos de la derecha cumplen la ecuación (40) y el segundo indica si la cumplen los vecinos de la izquierda.  \n",
    "* `suptestElementwise(eval)`: Dado un array de puntos vecinos al candidato a extremo superior del intervalo `eval`, devuelve dos booleanos. El primero indica si los puntos vecinos de la izquierda cumplen la ecuación (39) y el segundo indica si la cumplen los vecinos de la derecha.  \n",
    "* `inftestElementsum(eval)`: Dado un array de puntos vecinos al candidato a extremo inferior del intervalo `eval`, devuelve dos booleanos. El primero indica si la suma de los puntos vecinos de la derecha cumplen la ecuación (40) y el segundo indica si la cumple la suma de los vecinos de la izquierda.\n",
    "* `suptestElementsum(eval)`: Dado un array de puntos vecinos al candidato a extremo superior del intervalo `eval`, devuelve dos booleanos. El primero indica si la suma de los puntos vecinos de la izquierda cumplen la ecuación (39) y el segundo indica si la cumple la suma de los vecinos de la derecha.  \n",
    "* `infConditions(test1, test2, intervalinf, stop, i)`: Dados un booleano `test1` indicando si los puntos de la derecha (o su suma) cumplen (40), un booleano `test2` indicando si los puntos de la izquierda (o su suma) cumplen (40), un candidato a extremo inferior del intervalo `intervalinf`, un parámetro que controla la condición de parada del algoritmo `stop` y un parámetro `i` que almacena el anterior candidato a extremo inferior en caso de que estemos acercándonos a estar en condición de parada, la función decide si el candidato cumple la condición óptima y en qué dirección moverse.  \n",
    "\n",
    "Supongamos que estamos evaluando la situación de un candidato `intervalinf = 1.5` a extremo inferior. Sus vecinos de la derecha no cumplen (40), y sus vecinos de la izquierda tampoco, es decir, `test1 = False` y `test2 = False`. No estamos en condición de parada, `stop = False`, y el candidato anterior a extremo inferior `i` es cualquiera, supongamos `i=2.0`."
   ]
  },
  {
   "cell_type": "code",
   "execution_count": 17,
   "metadata": {},
   "outputs": [],
   "source": [
    "from intervalMinim import *\n",
    "\n",
    "test1 = False\n",
    "test2 = False\n",
    "stop = False\n",
    "i = 2.0\n",
    "intervalinf = 1.5\n",
    "\n",
    "new_intervalinf, direction, stop, i = infConditions(test1, test2, intervalinf, stop, i)"
   ]
  },
  {
   "cell_type": "markdown",
   "metadata": {},
   "source": [
    "¿En qué dirección debemos movernos?"
   ]
  },
  {
   "cell_type": "code",
   "execution_count": 18,
   "metadata": {},
   "outputs": [
    {
     "name": "stdout",
     "output_type": "stream",
     "text": [
      "-1\n"
     ]
    }
   ],
   "source": [
    "print(direction)"
   ]
  },
  {
   "cell_type": "markdown",
   "metadata": {},
   "source": [
    "El nuevo candidato a extremo inferior es"
   ]
  },
  {
   "cell_type": "code",
   "execution_count": 19,
   "metadata": {},
   "outputs": [
    {
     "name": "stdout",
     "output_type": "stream",
     "text": [
      "1.28656357558876\n"
     ]
    }
   ],
   "source": [
    "print(new_intervalinf)"
   ]
  },
  {
   "cell_type": "markdown",
   "metadata": {},
   "source": [
    "¿Estamos en condición de parada?"
   ]
  },
  {
   "cell_type": "code",
   "execution_count": 20,
   "metadata": {},
   "outputs": [
    {
     "name": "stdout",
     "output_type": "stream",
     "text": [
      "False\n"
     ]
    }
   ],
   "source": [
    "print(stop)"
   ]
  },
  {
   "cell_type": "markdown",
   "metadata": {},
   "source": [
    "El candidato anterior no ha cambiado, el valor de i sigue siendo"
   ]
  },
  {
   "cell_type": "code",
   "execution_count": 21,
   "metadata": {},
   "outputs": [
    {
     "name": "stdout",
     "output_type": "stream",
     "text": [
      "2.0\n"
     ]
    }
   ],
   "source": [
    "print(i)"
   ]
  },
  {
   "cell_type": "markdown",
   "metadata": {},
   "source": [
    "Supongamos ahora que estamos evaluando la situación de un candidato `intervalinf = 1.2` a extremo inferior que no está en condición de parada, `stop = False`. Sus vecinos de la izquierda cumplen (40), pero sus vecinos de la derecha no, es decir, `test2 = True` y `test1 = False`. El candidato anterior a extremo inferior `i`es cualquiera, supongamos `i=1.25`."
   ]
  },
  {
   "cell_type": "code",
   "execution_count": 22,
   "metadata": {},
   "outputs": [],
   "source": [
    "test1 = False\n",
    "test2 = True\n",
    "stop = False\n",
    "i = 1.28\n",
    "intervalinf = 1.2\n",
    "\n",
    "new_intervalinf, direction, stop, i = infConditions(test1, test2, intervalinf, stop, i)"
   ]
  },
  {
   "cell_type": "markdown",
   "metadata": {},
   "source": [
    "¿En qué dirección debemos movernos?"
   ]
  },
  {
   "cell_type": "code",
   "execution_count": 23,
   "metadata": {},
   "outputs": [
    {
     "name": "stdout",
     "output_type": "stream",
     "text": [
      "-1\n"
     ]
    }
   ],
   "source": [
    "print(direction)"
   ]
  },
  {
   "cell_type": "markdown",
   "metadata": {},
   "source": [
    "Nos movemos para comprobar en la siguiente iteración que los puntos en esta dirección siguen cumpliendo (40). En la siguiente iteración estudiaremos el punto"
   ]
  },
  {
   "cell_type": "code",
   "execution_count": 24,
   "metadata": {},
   "outputs": [
    {
     "name": "stdout",
     "output_type": "stream",
     "text": [
      "0.661026505225107\n"
     ]
    }
   ],
   "source": [
    "print(new_intervalinf)"
   ]
  },
  {
   "cell_type": "markdown",
   "metadata": {},
   "source": [
    "¿Estamos en condición de parada?"
   ]
  },
  {
   "cell_type": "code",
   "execution_count": 25,
   "metadata": {},
   "outputs": [
    {
     "name": "stdout",
     "output_type": "stream",
     "text": [
      "True\n"
     ]
    }
   ],
   "source": [
    "print(stop)"
   ]
  },
  {
   "cell_type": "markdown",
   "metadata": {},
   "source": [
    "El candidato anterior ha cambiado, ahora el valor de i es"
   ]
  },
  {
   "cell_type": "code",
   "execution_count": 26,
   "metadata": {},
   "outputs": [
    {
     "name": "stdout",
     "output_type": "stream",
     "text": [
      "1.2\n"
     ]
    }
   ],
   "source": [
    "print(i)"
   ]
  },
  {
   "cell_type": "markdown",
   "metadata": {},
   "source": [
    "Ahora, para alcanzar por completo la condicón óptima, los valores a la izquierda del candidato `i =  1.2` deberían cumplir (40). Supongamos que sí: `test1 = True` y `test2 = True`. "
   ]
  },
  {
   "cell_type": "code",
   "execution_count": 27,
   "metadata": {},
   "outputs": [],
   "source": [
    "test1 = True\n",
    "test2 = True\n",
    "\n",
    "intervalinf, direction, stop, i = infConditions(test1, test2, new_intervalinf, stop, i)"
   ]
  },
  {
   "cell_type": "markdown",
   "metadata": {},
   "source": [
    "Ahora la dirección es"
   ]
  },
  {
   "cell_type": "code",
   "execution_count": 28,
   "metadata": {},
   "outputs": [
    {
     "name": "stdout",
     "output_type": "stream",
     "text": [
      "0\n"
     ]
    }
   ],
   "source": [
    "print(direction)"
   ]
  },
  {
   "cell_type": "markdown",
   "metadata": {},
   "source": [
    "Esta dirección indica que hemos alcanzaco la condición de parada. Recuperamos de i el que era nuestro candidato. Ahora intervalinf tiene el valor"
   ]
  },
  {
   "cell_type": "code",
   "execution_count": 29,
   "metadata": {},
   "outputs": [
    {
     "name": "stdout",
     "output_type": "stream",
     "text": [
      "1.2\n"
     ]
    }
   ],
   "source": [
    "print(intervalinf)"
   ]
  },
  {
   "cell_type": "markdown",
   "metadata": {},
   "source": [
    "* `supConditions(test1, test2, intervalsup, stop, i)`: Dados un booleano `test1` indicando si los puntos de la izquierda (o su suma) cumplen (39), un booleano `test2` indicando si los puntos de la derecha (o su suma) cumplen (39), un candidato a extremo superior del intervalo `intervalsup`, un parámetro que controla la condición de parada del algoritmo `stop` y un parámetro `i` que almacena el anterior candidato a extremo superior, la función decide si el candidato cumple la condición óptima y en qué dirección moverse.  \n",
    "* `jumpCondition(twoclosevar, varLimdistance, interval, direction, k)`: Dados un booleano `twoclosevar` indicando si los dos últimos candidatos están \"cerca\", un valor `varLimdistance` indicando a qué distancia está el candidato del valor del límite, un candidato `interval`, una dirección (-1, 0 o 1) `direction` y un contador de la condición de salto `k`, la función devuelve si ha habido salto y, en caso de que sí, cuál es el nuevo candidato.  \n",
    "* `intervalMin(varphiLim0, varphiLimInf, galaxdata)`: Dados el valor del límite de varphi en cero `varphiLim0`, el valor del límite de varphi en infinito `varphiLimInf` y un diccionario de datos de una galaxia `galaxdata`, la función realiza la reducción del intervalo de búsqueda. Primero busca el extremo inferior que cumple alguna condición satisfactoria y luego el extremo superior, análogamente. Finalmente devuelve los valores propuestos como extremos, el valor mínimo de varphi encontrado en la búsqueda del extremo inferior y el valor mínimo de varphi encontrado en la búsqueda del extremo superior. También puede devolver datos para la elaboración de gráficas.  \n",
    "\n",
    "A continuación hacemos la minimización del intervalo de búsqueda para la galaxia DDO43 con el perfil ISO."
   ]
  },
  {
   "cell_type": "code",
   "execution_count": 30,
   "metadata": {},
   "outputs": [],
   "source": [
    "galaxdata[\"profile\"] = \"ISO\"\n",
    "varphiLim0, varphiLimInf = calLimits(galaxdata)\n",
    "\n",
    "interval, intinfmin, intsupmin = intervalMin(varphiLim0, varphiLimInf, galaxdata)\n",
    "intervalinf = interval[0]\n",
    "intervalsup = interval[1]"
   ]
  },
  {
   "cell_type": "markdown",
   "metadata": {},
   "source": [
    "Así, el extremo inferior del intervalo de búsqueda tras su exploración es"
   ]
  },
  {
   "cell_type": "code",
   "execution_count": 31,
   "metadata": {},
   "outputs": [
    {
     "name": "stdout",
     "output_type": "stream",
     "text": [
      "2.8813192978049143e-05\n"
     ]
    }
   ],
   "source": [
    "print(intervalinf)"
   ]
  },
  {
   "cell_type": "markdown",
   "metadata": {},
   "source": [
    "El extremo superior del intervalo de búsqueda tras su exploración es"
   ]
  },
  {
   "cell_type": "code",
   "execution_count": 32,
   "metadata": {},
   "outputs": [
    {
     "name": "stdout",
     "output_type": "stream",
     "text": [
      "0.36646379700282256\n"
     ]
    }
   ],
   "source": [
    "print(intervalsup)"
   ]
  },
  {
   "cell_type": "markdown",
   "metadata": {},
   "source": [
    "El valor mínimo de varphi encontrado en la exploración del extremo inferior es"
   ]
  },
  {
   "cell_type": "code",
   "execution_count": 33,
   "metadata": {},
   "outputs": [
    {
     "name": "stdout",
     "output_type": "stream",
     "text": [
      "0.8561628387327573\n"
     ]
    }
   ],
   "source": [
    "print(intinfmin[1])"
   ]
  },
  {
   "cell_type": "markdown",
   "metadata": {},
   "source": [
    "para el valor de s"
   ]
  },
  {
   "cell_type": "code",
   "execution_count": 34,
   "metadata": {},
   "outputs": [
    {
     "name": "stdout",
     "output_type": "stream",
     "text": [
      "0.001\n"
     ]
    }
   ],
   "source": [
    "print(intinfmin[0])"
   ]
  },
  {
   "cell_type": "markdown",
   "metadata": {},
   "source": [
    "El valor mínimo de varphi encontrado en la exploración del extremo superior es"
   ]
  },
  {
   "cell_type": "code",
   "execution_count": 35,
   "metadata": {},
   "outputs": [
    {
     "name": "stdout",
     "output_type": "stream",
     "text": [
      "4.018301670381277\n"
     ]
    }
   ],
   "source": [
    "print(intsupmin[1])"
   ]
  },
  {
   "cell_type": "markdown",
   "metadata": {},
   "source": [
    "para el valor de s"
   ]
  },
  {
   "cell_type": "code",
   "execution_count": 36,
   "metadata": {},
   "outputs": [
    {
     "name": "stdout",
     "output_type": "stream",
     "text": [
      "0.23122302420502952\n"
     ]
    }
   ],
   "source": [
    "print(intsupmin[0])"
   ]
  },
  {
   "cell_type": "markdown",
   "metadata": {},
   "source": [
    "A continuación se muestra la exploración del intervalo de búsqueda para su reducción para la galaxia DDO43 con perfil ISO. Los puntos rojos representan los puntos explorados y la línea negra el intervalo deducido en el algoritmo."
   ]
  },
  {
   "cell_type": "code",
   "execution_count": 38,
   "metadata": {},
   "outputs": [
    {
     "data": {
      "image/png": "[encoded data removed]",
      "text/plain": [
       "<Figure size 432x288 with 1 Axes>"
      ]
     },
     "metadata": {
      "needs_background": "light"
     },
     "output_type": "display_data"
    }
   ],
   "source": [
    "import matplotlib.pyplot as plt\n",
    "\n",
    "galaxdata[\"graphic\"] = True\n",
    "res = intervalMin(varphiLim0, varphiLimInf, galaxdata)\n",
    "intervalinf = res[0][0]\n",
    "intervalsup = res[0][1]\n",
    "Xi = res[1]\n",
    "Yi = res[2]\n",
    "intinfmin = res[3]\n",
    "intsupmin = res[4]\n",
    "plt.semilogx()\n",
    "plt.title(\"Galaxia DDO43 con perfil ISO\")\n",
    "plt.xlabel(\"s (parámetro de escala)\")\n",
    "plt.ylabel(r\"$\\varphi(s)$\")\n",
    "plt.scatter(intervalinf, 0, c='black', marker=3)\n",
    "plt.scatter(intervalsup, 0, c='black', marker=3)\n",
    "plt.hlines(0, intervalinf, intervalsup)\n",
    "plt.scatter(Xi, Yi, c='r', marker='.')\n",
    "plt.show()"
   ]
  },
  {
   "cell_type": "markdown",
   "metadata": {},
   "source": [
    "### `varphiMinim.py`\n",
    "Aquí se definen las distintas funciones que forman el algoritmo de minimización de la función varphi.\n",
    "* `getIMD(intizq, intder, galaxdata)`: Dados el extremo inferior del intervalo `intizq`, el extremo superior del intervalo `intder`y un diccionario de datos de una galaxia `galaxdata`, la función devuelve el valor medio `m`y su evaluación en varphi, así como un punto aleatorio a la derecha y otro a la izquierda, con sus respectivas evaluaciones en varphi.\n",
    "* `reductionInterval(varphiLim0, varphiLimInf, intinfmin, intsupmin, intervalinf, intervalsup)`: Realiza la mejora propuesta en la memoria para el algoritmo de minimización de varphi. Dados el límite de varphi en 0 `varphiLim0`, el límite de varphi en infinito `varphiLimInf`, el punto mínimo encontrado en la exploración del intervalo inferior `intinfmin`, el punto mínimo encontrado en la exploración del intervalo superior `intsupmin`, el extremo inferior del intervalo calculado en intervalMinim.py `intervalinf` y el extremo superior del intervalo calculado en intervalMinim.py `intervalsup`, la función devuelve el intervalo de búsqueda nuevamente reducido (en caso de que haya sido posible reducirlo).  \n",
    "* `varphiMin(varphiLim0, varphiLimInf, intinfmin, intsupmin, intervalinf, intervalsup, galaxdata)`: Dados el límite de varphi cuando s tiende a 0 `varphiLim0`, el límite de varphi cuando s tiende a infinito `varphiLimInf`, el punto mínimo encontrado en la exploración del intervalo inferior `intinfmin`, el punto mínimo encontrado en la exploración del intervalo superior `intsupmin`, el extremo inferior del intervalo calculado en intervalMinim.py `intervalinf`, el extremo superior del intervalo calculado en intervalMinim.py `intervalsup` y el diccionario de datos de una galaxia `galaxdata`, la función realiza la exploración de varphi y devuelve el mínimo valor encontrado.  \n",
    "\n",
    "A continuación realizamos la minimización de varphi para la galaxia DDO43 con el perfil ISO."
   ]
  },
  {
   "cell_type": "code",
   "execution_count": 39,
   "metadata": {},
   "outputs": [],
   "source": [
    "from varphiMinim import *\n",
    "\n",
    "res = varphiMin(varphiLim0, varphiLimInf, intinfmin, intsupmin, intervalinf, intervalsup, galaxdata)\n",
    "minvarphi = res[0]\n",
    "minrho = res[1]\n",
    "minvarphiX = res[2]\n",
    "Xj = res[3]\n",
    "Yj = res[4]\n",
    "forkpoints = res[5]\n",
    "X = res[6]\n",
    "intervalinf = res[7]\n",
    "intervalsup = res[8]"
   ]
  },
  {
   "cell_type": "markdown",
   "metadata": {},
   "source": [
    "Así, el intervalo de búsqueda tras aplicar la mejora propuesta en el algoritmo de minimización de varphi es"
   ]
  },
  {
   "cell_type": "code",
   "execution_count": 40,
   "metadata": {},
   "outputs": [
    {
     "name": "stdout",
     "output_type": "stream",
     "text": [
      "[ 4.3438423414425835e-05 ,  0.20301578987012392 ]\n"
     ]
    }
   ],
   "source": [
    "print(\"[\", intervalinf, \", \", intervalsup, \"]\")"
   ]
  },
  {
   "cell_type": "markdown",
   "metadata": {},
   "source": [
    "El valor mínimo de varphi encontrado es"
   ]
  },
  {
   "cell_type": "code",
   "execution_count": 41,
   "metadata": {},
   "outputs": [
    {
     "name": "stdout",
     "output_type": "stream",
     "text": [
      "[0.84948667]\n"
     ]
    }
   ],
   "source": [
    "print(minvarphi)"
   ]
  },
  {
   "cell_type": "markdown",
   "metadata": {},
   "source": [
    "para el valor de s"
   ]
  },
  {
   "cell_type": "code",
   "execution_count": 42,
   "metadata": {},
   "outputs": [
    {
     "name": "stdout",
     "output_type": "stream",
     "text": [
      "0.0010804014772067916\n"
     ]
    }
   ],
   "source": [
    "print(minvarphiX)"
   ]
  },
  {
   "cell_type": "markdown",
   "metadata": {},
   "source": [
    "Mientras que el valor de la función rho (para este valor de s) definida en la Proposición 1 es"
   ]
  },
  {
   "cell_type": "code",
   "execution_count": 43,
   "metadata": {},
   "outputs": [
    {
     "name": "stdout",
     "output_type": "stream",
     "text": [
      "[0.01796679]\n"
     ]
    }
   ],
   "source": [
    "print(minrho)"
   ]
  },
  {
   "cell_type": "markdown",
   "metadata": {},
   "source": [
    "A continuación se muestra la exploración del intervalo de búsqueda para la minimización de varphi para la galaxia DDO43 con perfil ISO. Los puntos rojos representan los puntos explorados en el algoritmo de reducción del intervalo, la línea negra el intervalo deducido en el algoritmo y los puntos azules los puntos explorados en la minimización de varphi."
   ]
  },
  {
   "cell_type": "code",
   "execution_count": 44,
   "metadata": {},
   "outputs": [
    {
     "data": {
      "image/png": "[encoded data removed]",
      "text/plain": [
       "<Figure size 432x288 with 1 Axes>"
      ]
     },
     "metadata": {
      "needs_background": "light"
     },
     "output_type": "display_data"
    }
   ],
   "source": [
    "plt.semilogx()\n",
    "plt.title(\"Galaxia DDO43 con perfil ISO\")\n",
    "plt.xlabel(\"s (parámetro de escala)\")\n",
    "plt.ylabel(r\"$\\varphi(s)$\")\n",
    "plt.scatter(intervalinf, 0, c='black', marker=3)\n",
    "plt.scatter(intervalsup, 0, c='black', marker=3)\n",
    "plt.hlines(0, intervalinf, intervalsup)\n",
    "plt.scatter(Xi, Yi, c='r', marker='.')\n",
    "plt.scatter(X, np.zeros(len(X)), color='black', marker=3)\n",
    "plt.scatter(Xj, Yj, c='b', marker='.', linewidths=0.01)\n",
    "plt.show()"
   ]
  },
  {
   "cell_type": "markdown",
   "metadata": {},
   "source": [
    "### `redMethRotCurveFitting.py`\n",
    "Aquí es donde se realiza todo el proceso de ajuste de curvas de rotación, acudiendo a las funciones mencionadas anteriormente. Consta de tres partes: cálculo de límites, reducción del intervalo de búsqueda y minimización de la función varphi. A continuación, incluimos una galaxia más en nuestro conjunto de galaxias y repetimos el proceso desarrollado anteriormente para los perfiles ISO, BUR y NFW, a modo de ejemplo."
   ]
  },
  {
   "cell_type": "code",
   "execution_count": 45,
   "metadata": {},
   "outputs": [
    {
     "name": "stdout",
     "output_type": "stream",
     "text": [
      "\n",
      "\n",
      "GALAXIA  DDO43\n",
      "Para el perfil  ISO\n",
      "El límite de varphi cuando s tiende a cero es  63.01870724925527\n",
      "El límite de varphi cuando s tiende a infinito es  18.34822521657395\n",
      "El intervalo de búsqueda deducido es [ 5.656285536147595e-05 ,  0.6676578686367204 ]\n",
      "Mínimo encontrado en la exploración del intervalo inferior:  [0.001584893192461114, 15.578755813934777]\n",
      "Mínimo encontrado en la exploración del intervalo superior:  [0.4212636358163308, 18.157307451758356]\n",
      "Tras la mejora propuesta en. el algoritmo de minimización de varphi, el intervalo de búsqueda es [ 5.656285536147595e-05 ,  0.6676578686367204 ]\n",
      "El intervalo de búsqueda tras aplicar la mejora propuesta en el algoritmo de minimización de varphi es [ 5.656285536147595e-05 ,  0.6676578686367204 ]\n",
      "El valor mínimo de varphi encontrado es  [10.14738377] , para s =  0.003967488795010021\n",
      "El valor de rho( 0.003967488795010021 ) =  [1.30778115]\n",
      "Para el perfil  BUR\n",
      "El límite de varphi cuando s tiende a cero es  63.01870724925527\n",
      "El límite de varphi cuando s tiende a infinito es  83.5311745349124\n",
      "El intervalo de búsqueda deducido es [ 1.2556231442691707e-05 ,  1.3535630873127756e+19 ]\n",
      "Mínimo encontrado en la exploración del intervalo inferior:  [0.001584893192461114, 7.355025327713918]\n",
      "Mínimo encontrado en la exploración del intervalo superior:  [630.957344480193, 76.66341785646125]\n",
      "Tras la mejora propuesta en. el algoritmo de minimización de varphi, el intervalo de búsqueda es [ 1.2556231442691707e-05 ,  630.957344480193 ]\n",
      "El intervalo de búsqueda tras aplicar la mejora propuesta en el algoritmo de minimización de varphi es [ 1.2556231442691707e-05 ,  630.957344480193 ]\n",
      "El valor mínimo de varphi encontrado es  [7.07844743] , para s =  0.001826468224049132\n",
      "El valor de rho( 0.001826468224049132 ) =  [1.09352105]\n",
      "Para el perfil  NFW\n",
      "El límite de varphi cuando s tiende a cero es  26.401860304583124\n",
      "El límite de varphi cuando s tiende a infinito es  83.5311745349124\n",
      "El intervalo de búsqueda deducido es [ 2.5354963414884363e-06 ,  1.4691673713276666e+19 ]\n",
      "Mínimo encontrado en la exploración del intervalo inferior:  [0.000878291260254534, 9.752373392354173]\n",
      "Mínimo encontrado en la exploración del intervalo superior:  [630.957344480193, 76.5387579972085]\n",
      "Tras la mejora propuesta en. el algoritmo de minimización de varphi, el intervalo de búsqueda es [ 2.5354963414884363e-06 ,  630.957344480193 ]\n",
      "El intervalo de búsqueda tras aplicar la mejora propuesta en el algoritmo de minimización de varphi es [ 2.5354963414884363e-06 ,  630.957344480193 ]\n",
      "El valor mínimo de varphi encontrado es  [9.74726021] , para s =  0.0008494025836429804\n",
      "El valor de rho( 0.0008494025836429804 ) =  [0.22576236]\n",
      "\n",
      "\n",
      "GALAXIA  DDO46\n",
      "Para el perfil  ISO\n",
      "El límite de varphi cuando s tiende a cero es  63.01870724925527\n",
      "El límite de varphi cuando s tiende a infinito es  18.34822521657395\n",
      "El intervalo de búsqueda deducido es [ 5.12365990065132e-05 ,  0.6895895300358758 ]\n",
      "Mínimo encontrado en la exploración del intervalo inferior:  [0.001584893192461114, 15.578755813934777]\n",
      "Mínimo encontrado en la exploración del intervalo superior:  [0.4351015786527806, 18.163340989832477]\n",
      "Tras la mejora propuesta en. el algoritmo de minimización de varphi, el intervalo de búsqueda es [ 5.12365990065132e-05 ,  0.6895895300358758 ]\n",
      "El intervalo de búsqueda tras aplicar la mejora propuesta en el algoritmo de minimización de varphi es [ 5.12365990065132e-05 ,  0.6895895300358758 ]\n",
      "El valor mínimo de varphi encontrado es  [10.14738337] , para s =  0.003966356612602201\n",
      "El valor de rho( 0.003966356612602201 ) =  [1.30715037]\n",
      "Para el perfil  BUR\n",
      "El límite de varphi cuando s tiende a cero es  63.01870724925527\n",
      "El límite de varphi cuando s tiende a infinito es  83.5311745349124\n",
      "El intervalo de búsqueda deducido es [ 8.275897137919854e-06 ,  1.1445986012968448e+19 ]\n",
      "Mínimo encontrado en la exploración del intervalo inferior:  [0.001584893192461114, 7.355025327713918]\n",
      "Mínimo encontrado en la exploración del intervalo superior:  [630.957344480193, 76.66341785646125]\n",
      "Tras la mejora propuesta en. el algoritmo de minimización de varphi, el intervalo de búsqueda es [ 8.275897137919854e-06 ,  630.957344480193 ]\n",
      "El intervalo de búsqueda tras aplicar la mejora propuesta en el algoritmo de minimización de varphi es [ 8.275897137919854e-06 ,  630.957344480193 ]\n",
      "El valor mínimo de varphi encontrado es  [7.07844743] , para s =  0.001826455428613729\n",
      "El valor de rho( 0.001826455428613729 ) =  [1.09350679]\n",
      "Para el perfil  NFW\n",
      "El límite de varphi cuando s tiende a cero es  26.401860304583124\n",
      "El límite de varphi cuando s tiende a infinito es  83.5311745349124\n",
      "El intervalo de búsqueda deducido es [ 2.9582045315742006e-06 ,  1.684820072158343e+19 ]\n",
      "Mínimo encontrado en la exploración del intervalo inferior:  [0.0008471871651563675, 9.747290346849127]\n",
      "Mínimo encontrado en la exploración del intervalo superior:  [630.957344480193, 76.5387579972085]\n",
      "Tras la mejora propuesta en. el algoritmo de minimización de varphi, el intervalo de búsqueda es [ 2.9582045315742006e-06 ,  630.957344480193 ]\n",
      "El intervalo de búsqueda tras aplicar la mejora propuesta en el algoritmo de minimización de varphi es [ 2.9582045315742006e-06 ,  630.957344480193 ]\n",
      "El valor mínimo de varphi encontrado es  [9.7472602] , para s =  0.0008493713813003858\n",
      "El valor de rho( 0.0008493713813003858 ) =  [0.2257473]\n"
     ]
    }
   ],
   "source": [
    "import data as dt\n",
    "\n",
    "galaxlist = [\"DDO43\", \"DDO46\"]\n",
    "\n",
    "fp = open(\"galaxies/DDO46.arff\")\n",
    "dat, metadt = arff.loadarff(fp)\n",
    "data = []\n",
    "for d in dat.tolist():\n",
    "    data.append(np.asarray(d))\n",
    "data = np.asarray(data)\n",
    "galaxies[\"DDO46\"] = {\n",
    "    \"R\": data[:, 0] * 1000,\n",
    "    \"vrot\": abs(data[:, 1]),\n",
    "    \"errs\": data[:, 3],\n",
    "    \"vbary\": np.sqrt(data[:, 4] ** 2 + data[:, 5] ** 2)\n",
    "}\n",
    "fp.close()\n",
    "\n",
    "radii = galaxies[\"DDO46\"][\"R\"]\n",
    "galaxdata[\"radii\"] = radii\n",
    "vrot = galaxies[\"DDO46\"][\"vrot\"]\n",
    "galaxdata[\"vrot\"] = vrot\n",
    "vbary = galaxies[\"DDO46\"][\"vbary\"]\n",
    "galaxdata[\"vbary\"] = vbary\n",
    "n = len(radii)\n",
    "vones = np.ones(n)\n",
    "galaxdata[\"vones\"] = vones\n",
    "weights = 1 / ((n - dt.nu) * galaxies[\"DDO46\"][\"errs\"] ** 2)\n",
    "galaxdata[\"weights\"] = weights\n",
    "totalnullvbary = np.sum(vbary) == 0\n",
    "galaxdata[\"totalnullvbary\"] = totalnullvbary\n",
    "somenullvbary = round(np.prod(vbary)) == 0\n",
    "galaxdata[\"somenullvbary\"] = somenullvbary\n",
    "vv = cf.vv(galaxdata)\n",
    "galaxdata[\"vv\"] = vv\n",
    "vvbary = cf.vvbary(galaxdata)\n",
    "galaxdata[\"vvbary\"] = vvbary\n",
    "galaxdata[\"graphic\"] = False\n",
    "\n",
    "profiles = [\"ISO\", \"BUR\", \"NFW\"]\n",
    "for g in galaxies:\n",
    "    print(\"\\n\")\n",
    "    print(\"GALAXIA \", g)\n",
    "    for p in profiles:\n",
    "        galaxdata[\"profile\"] = p\n",
    "        print(\"Para el perfil \", p)\n",
    "        \"\"\"\n",
    "        Cálculo de límites\n",
    "        \"\"\"\n",
    "        limits = calLimits(galaxdata)\n",
    "        varphiLim0 = limits[0]\n",
    "        varphiLimInf = limits[1]\n",
    "        print(\"El límite de varphi cuando s tiende a cero es \", varphiLim0)\n",
    "        print(\"El límite de varphi cuando s tiende a infinito es \", varphiLimInf)\n",
    "        \"\"\"\n",
    "        Minimización del intervalo de búsqueda\n",
    "        \"\"\"\n",
    "        interval = intervalMin(varphiLim0, varphiLimInf, galaxdata)\n",
    "        intervalinf = interval[0][0]\n",
    "        intervalsup = interval[0][1]\n",
    "        print(\"El intervalo de búsqueda deducido es [\", intervalinf, \", \", intervalsup, \"]\")\n",
    "        intinfmin = interval[1]\n",
    "        intsupmin = interval[2]\n",
    "        print(\"Mínimo encontrado en la exploración del intervalo inferior: \", intinfmin)\n",
    "        print(\"Mínimo encontrado en la exploración del intervalo superior: \", intsupmin)\n",
    "        \"\"\"\n",
    "        Minimización de la función varphi\n",
    "        \"\"\"\n",
    "        pmin = varphiMin(varphiLim0, varphiLimInf, intinfmin, intsupmin, intervalinf, intervalsup, galaxdata)\n",
    "        minvarphi = pmin[0]\n",
    "        minrho = pmin[1]\n",
    "        minvarphiX = pmin[2]\n",
    "        intervalinf = pmin[5]\n",
    "        intervalsup = pmin[6]\n",
    "        print(\"Tras la mejora propuesta en. el algoritmo de minimización de varphi, el intervalo de búsqueda es [\", intervalinf, \", \", intervalsup, \"]\")\n",
    "        print(\"El intervalo de búsqueda tras aplicar la mejora propuesta en el algoritmo de minimización de varphi es [\", intervalinf, \", \", intervalsup, \"]\")\n",
    "        print(\"El valor mínimo de varphi encontrado es \", minvarphi, \", para s = \", minvarphiX)\n",
    "        print(\"El valor de rho(\", minvarphiX, \") = \", minrho)"
   ]
  },
  {
   "cell_type": "code",
   "execution_count": null,
   "metadata": {},
   "outputs": [],
   "source": []
  }
 ],
 "metadata": {
  "kernelspec": {
   "display_name": "Python 3",
   "language": "python",
   "name": "python3"
  },
  "language_info": {
   "codemirror_mode": {
    "name": "ipython",
    "version": 3
   },
   "file_extension": ".py",
   "mimetype": "text/x-python",
   "name": "python",
   "nbconvert_exporter": "python",
   "pygments_lexer": "ipython3",
   "version": "3.7.1"
  }
 },
 "nbformat": 4,
 "nbformat_minor": 2
}
