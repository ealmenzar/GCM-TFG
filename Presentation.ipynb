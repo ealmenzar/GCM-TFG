{
 "cells": [
  {
   "cell_type": "markdown",
   "metadata": {
    "slideshow": {
     "slide_type": "slide"
    }
   },
   "source": [
    "\n",
    "# Problemas de optimización en el modelado de materia oscura galáctica\n",
    "### Marina Estévez Almenzar\n",
    "## Trabajo Fin de Grado\n",
    "## Doble Grado en Ingeniería Informática y Matemáticas\n",
    "### Tutores: Óscar Sánchez Romero y Pedro A. García Sánchez\n"
   ]
  },
  {
   "cell_type": "markdown",
   "metadata": {
    "slideshow": {
     "slide_type": "slide"
    }
   },
   "source": [
    "## Índice\n",
    "* Introducción\n",
    "    * El problema astrofísico: el modelado de las masa de materia oscura galáctica\n",
    "* Parte matemática\n",
    "    * Definición del problema de minimización\n",
    "    * Reducción paramétrica\n",
    "* Parte informática\n",
    "    * Algoritmo de reducción del intervalo de búsqueda\n",
    "    * Algoritmo de minimización de la función objetivo\n",
    "* Conclusiones\n",
    "    * Análisis de los resultados obtenidos\n",
    "    * Vías futuras"
   ]
  },
  {
   "cell_type": "markdown",
   "metadata": {
    "slideshow": {
     "slide_type": "slide"
    }
   },
   "source": [
    "# Introducción\n",
    "## El modelado de la masa de materia oscura galáctica\n",
    "### ¿Cómo surge la teoría de la existencia de materia oscura?\n",
    "#### Curvas de rotación\n",
    "![Curva de rotación de la Vía Láctea](/galaxies/graphics/imagen_rotcurve.png)"
   ]
  },
  {
   "cell_type": "code",
   "execution_count": null,
   "metadata": {},
   "outputs": [],
   "source": []
  }
 ],
 "metadata": {
  "celltoolbar": "Slideshow",
  "kernelspec": {
   "display_name": "Python 3",
   "language": "python",
   "name": "python3"
  },
  "language_info": {
   "codemirror_mode": {
    "name": "ipython",
    "version": 3
   },
   "file_extension": ".py",
   "mimetype": "text/x-python",
   "name": "python",
   "nbconvert_exporter": "python",
   "pygments_lexer": "ipython3",
   "version": "3.7.1"
  }
 },
 "nbformat": 4,
 "nbformat_minor": 2
}
